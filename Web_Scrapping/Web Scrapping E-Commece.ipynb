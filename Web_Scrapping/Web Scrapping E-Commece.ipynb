{
 "cells": [
  {
   "cell_type": "markdown",
   "metadata": {},
   "source": [
    "## Import Libraries"
   ]
  },
  {
   "cell_type": "code",
   "execution_count": 1,
   "metadata": {},
   "outputs": [],
   "source": [
    "import pandas as pd\n",
    "import numpy as np\n",
    "import matplotlib.pyplot as plt\n",
    "import urllib.parse"
   ]
  },
  {
   "cell_type": "code",
   "execution_count": 2,
   "metadata": {},
   "outputs": [],
   "source": [
    "from bs4 import BeautifulSoup\n",
    "import requests"
   ]
  },
  {
   "cell_type": "markdown",
   "metadata": {},
   "source": [
    "## HTTP Requests"
   ]
  },
  {
   "cell_type": "code",
   "execution_count": 3,
   "metadata": {},
   "outputs": [],
   "source": [
    "url = 'https://www.laptopsdirect.co.uk/'"
   ]
  },
  {
   "cell_type": "markdown",
   "metadata": {},
   "source": [
    "## Get Requests"
   ]
  },
  {
   "cell_type": "code",
   "execution_count": 4,
   "metadata": {},
   "outputs": [],
   "source": [
    "response = requests.get(url)"
   ]
  },
  {
   "cell_type": "markdown",
   "metadata": {},
   "source": [
    "## Status Code"
   ]
  },
  {
   "cell_type": "code",
   "execution_count": 5,
   "metadata": {},
   "outputs": [
    {
     "data": {
      "text/plain": [
       "200"
      ]
     },
     "execution_count": 5,
     "metadata": {},
     "output_type": "execute_result"
    }
   ],
   "source": [
    "response.status_code"
   ]
  },
  {
   "cell_type": "markdown",
   "metadata": {},
   "source": [
    "## Soup Object"
   ]
  },
  {
   "cell_type": "code",
   "execution_count": 6,
   "metadata": {},
   "outputs": [],
   "source": [
    "soup = BeautifulSoup(response.content, 'html.parser')"
   ]
  },
  {
   "cell_type": "code",
   "execution_count": 7,
   "metadata": {},
   "outputs": [
    {
     "data": {
      "text/plain": [
       "<!DOCTYPE html>\n",
       "<html lang=\"en-IN\"><head><meta charset=\"utf-8\"/><meta content=\"/images/branding/googleg/1x/googleg_standard_color_128dp.png\" itemprop=\"image\"/><title>all shops list in allahabad - Google Search</title><script nonce=\"ZAKzeu+gGkc1bBD/zR5sfA==\">(function(){\n",
       "document.documentElement.addEventListener(\"submit\",function(b){var a;if(a=b.target){var c=a.getAttribute(\"data-submitfalse\");a=\"1\"==c||\"q\"==c&&!a.elements.q.value?!0:!1}else a=!1;a&&(b.preventDefault(),b.stopPropagation())},!0);document.documentElement.addEventListener(\"click\",function(b){var a;a:{for(a=b.target;a&&a!=document.documentElement;a=a.parentElement)if(\"A\"==a.tagName){a=\"1\"==a.getAttribute(\"data-nohref\");break a}a=!1}a&&b.preventDefault()},!0);}).call(this);(function(){\n",
       "var a=window.performance;window.start=Date.now();a:{var b=window;if(a){var c=a.timing;if(c){var d=c.navigationStart,f=c.responseStart;if(f>d&&f<=window.start){window.start=f;b.wsrt=f-d;break a}}a.now&&(b.wsrt=Math.floor(a.now()))}}window.google=window.google||{};var h=function(g){g&&g.target.setAttribute(\"data-iml\",Date.now())};document.documentElement.addEventListener(\"load\",h,!0);google.rglh=function(){document.documentElement.removeEventListener(\"load\",h,!0)};}).call(this);(function(){\n",
       "var c=[],e=0;window.ping=function(b){-1==b.indexOf(\"&zx\")&&(b+=\"&zx=\"+Date.now());var a=new Image,d=e++;c[d]=a;a.onerror=a.onload=a.onabort=function(){delete c[d]};a.src=b};}).call(this);</script><style>body{margin:0 auto;max-width:736px;padding:0 8px;}a{color:#1967D2;text-decoration:none;tap-highlight-color:rgba(0,0,0,.10)}a:visited{color:#4B11A8}a:hover{text-decoration:underline}img{border:0}html{font-family:Roboto,Helvetica Neue,Arial,sans-serif;font-size:14px;line-height:20px;text-size-adjust:100%;color:#3c4043;word-wrap:break-word;background-color:#fff}.bRsWnc{background-color:#fff;border-top:1px solid #dadce0;height:39px;overflow:hidden}.N6RWV{height:51px;overflow-scrolling:touch;overflow-x:auto;overflow-y:hidden}.Uv67qb{box-pack:justify;font-size:12px;line-height:37px;justify-content:space-between;justify-content:space-between}.Uv67qb a,.Uv67qb span{color:#70757a;display:block;flex:none;padding:0 16px;text-align:center;text-transform:uppercase;}span.OXXup{border-bottom:2px solid #4285f4;color:#4285f4;font-weight:bold}a.eZt8xd:visited{color:#70757a}.FElbsf{border-left:1px solid rgba(0,0,0,.12)}header article{overflow:visible}.Pg70bf{height:39px;display:box;display:flex;display:flex;width:100%}.H0PQec{position:relative;flex:1}.sbc{display:flex;width:100%}.Pg70bf input{margin:2px 4px 2px 8px;}.x{width:26px;color:#70757a;font:27px/38px arial, sans-serif;line-height:40px;}#qdClwb{flex:0 0 auto;width:39px;height:39px;border-bottom:0;padding:0;border-top-right-radius:8px;background-color:#1a73e8;border:1px solid #1558d6;background-image:url(data:image/gif;base64,R0lGODdhJAAjAPIHAODr/nCk+MPZ/FmV96zK+/7+/5K5+kqL9iwAAAAAJAAjAEADani63P4wykmbKcQRXDscQAEMXmmeaLQVLCukzyC09AjfeK7v/MAajACLhPMVAgwjsUcEiZa8xgAYrVqv2Kx2iwsIAAABknfBBAKrTE4IcMyot8ur8datqIbQfJdnAfo2WE6BV05wXIiJigkAOw==);}.sc{font-size:16px;position:absolute;top:39px;left:0;right:0;box-shadow:0px 2px 5px rgba(0,0,0,.2);z-index:2;background-color:#fff}.sc>div{padding:10px 10px;padding-left:16px;padding-left:14px;border-top:1px solid #dfe1e5}.scs{background-color:#f8f9fa;}.noHIxc{display:block;font-size:16px;padding:0 0 0 8px;flex:1;height:35px;outline:none;border:none;width:100%;-webkit-tap-highlight-color:rgba(0,0,0,.00);overflow:hidden;}.sbc input[type=text]{background:none}.bz1lBb{background:#fff;border-radius:8px 8px 0 0;box-shadow:0 1px 6px rgba(32, 33, 36, 0.18);margin-top:10px}.KP7LCb{border-radius:0 0 8px 8px;box-shadow:0 2px 3px rgba(32, 33, 36, 0.18);margin-bottom:10px;overflow:hidden}.cOl4Id{letter-spacing:-1px;text-align:center;font:22pt Futura, Arial, sans-serif;height:37px;font-smoothing:antialiased;padding:10px 0 5px 0;}.cOl4Id span{display:inline-block}.S591j{height:100%}.V6gwVd{color:#4285f4}.iWkuvd{color:#ea4335}.cDrQ7{color:#fcc934}.ntlR9{color:#34a853}.tJ3Myc{-webkit-transform:rotate(-20deg);position:relative;left:-1px;display:inline-block}footer{text-align:center;margin-top:18px}footer a,footer a:visited,.smiUbb{color:#70757a}.xeDNfc{margin:0 13px}#EOlPnc{margin-top:36px}#EOlPnc>div{margin:20px}.Srfpq{color:#70757a}</style></head><body jsmodel=\"TvHxbe\"><header id=\"hdr\"><script nonce=\"ZAKzeu+gGkc1bBD/zR5sfA==\">(function(){\n",
       "var k=this||self,l=function(){},m=function(a){var b=typeof a;return\"object\"==b&&null!=a||\"function\"==b},n=function(a,b){function c(){}c.prototype=b.prototype;a.l=b.prototype;a.prototype=new c;a.prototype.constructor=a;a.o=function(d,e,f){for(var g=Array(arguments.length-2),h=2;h<arguments.length;h++)g[h-2]=arguments[h];return b.prototype[e].apply(d,g)}};var p=Array.prototype.indexOf?function(a,b){return Array.prototype.indexOf.call(a,b,void 0)}:function(a,b){if(\"string\"===typeof a)return\"string\"!==typeof b||1!=b.length?-1:a.indexOf(b,0);for(var c=0;c<a.length;c++)if(c in a&&a[c]===b)return c;return-1};var q=function(a){return\"string\"==typeof a.className?a.className:a.getAttribute&&a.getAttribute(\"class\")||\"\"},r=function(a,b){\"string\"==typeof a.className?a.className=b:a.setAttribute&&a.setAttribute(\"class\",b)},t=function(a,b){a.classList?b=a.classList.contains(b):(a=a.classList?a.classList:q(a).match(/\\S+/g)||[],b=0<=p(a,b));return b},w=function(){var a=u,b=v;a.classList?a.classList.remove(b):t(a,b)&&r(a,Array.prototype.filter.call(a.classList?a.classList:q(a).match(/\\S+/g)||[],function(c){return c!=\n",
       "b}).join(\" \"))};var x;a:{var y=k.navigator;if(y){var z=y.userAgent;if(z){x=z;break a}}x=\"\"};var A=function(a){A[\" \"](a);return a};A[\" \"]=l;var B=-1!=x.indexOf(\"Gecko\")&&!(-1!=x.toLowerCase().indexOf(\"webkit\")&&-1==x.indexOf(\"Edge\"))&&!(-1!=x.indexOf(\"Trident\")||-1!=x.indexOf(\"MSIE\"))&&-1==x.indexOf(\"Edge\");var C=function(a,b){this.type=a;this.target=b};C.prototype.g=function(){};var D=function(){if(!k.addEventListener||!Object.defineProperty)return!1;var a=!1,b=Object.defineProperty({},\"passive\",{get:function(){a=!0}});try{k.addEventListener(\"test\",l,b),k.removeEventListener(\"test\",l,b)}catch(c){}return a}();var F=function(a){C.call(this,a?a.type:\"\");this.relatedTarget=this.target=null;this.button=this.screenY=this.screenX=this.clientY=this.clientX=0;this.key=\"\";this.keyCode=0;this.metaKey=this.shiftKey=this.altKey=this.ctrlKey=!1;this.state=null;this.pointerId=0;this.pointerType=\"\";this.h=null;if(a){var b=this.type=a.type,c=a.changedTouches&&a.changedTouches.length?a.changedTouches[0]:null;this.target=a.target||a.srcElement;var d=a.relatedTarget;if(d){if(B){a:{try{A(d.nodeName);var e=!0;break a}catch(f){}e=\n",
       "!1}e||(d=null)}}else\"mouseover\"==b?d=a.fromElement:\"mouseout\"==b&&(d=a.toElement);this.relatedTarget=d;c?(this.clientX=void 0!==c.clientX?c.clientX:c.pageX,this.clientY=void 0!==c.clientY?c.clientY:c.pageY,this.screenX=c.screenX||0,this.screenY=c.screenY||0):(this.clientX=void 0!==a.clientX?a.clientX:a.pageX,this.clientY=void 0!==a.clientY?a.clientY:a.pageY,this.screenX=a.screenX||0,this.screenY=a.screenY||0);this.button=a.button;this.keyCode=a.keyCode||0;this.key=a.key||\"\";this.ctrlKey=a.ctrlKey;this.altKey=a.altKey;this.shiftKey=a.shiftKey;this.metaKey=a.metaKey;this.pointerId=a.pointerId||0;this.pointerType=\"string\"===typeof a.pointerType?a.pointerType:E[a.pointerType]||\"\";this.state=a.state;this.h=a;a.defaultPrevented&&F.l.g.call(this)}};n(F,C);var E={2:\"touch\",3:\"pen\",4:\"mouse\"};F.prototype.g=function(){F.l.g.call(this);var a=this.h;a.preventDefault?a.preventDefault():a.returnValue=!1};var G=\"closure_listenable_\"+(1E6*Math.random()|0);var H=0;var I=function(a,b,c,d,e){this.listener=a;this.g=null;this.src=b;this.type=c;this.capture=!!d;this.i=e;this.key=++H;this.h=this.j=!1},J=function(a){a.h=!0;a.listener=null;a.g=null;a.src=null;a.i=null};var K=function(a){this.src=a;this.g={};this.h=0};K.prototype.add=function(a,b,c,d,e){var f=a.toString();a=this.g[f];a||(a=this.g[f]=[],this.h++);var g;a:{for(g=0;g<a.length;++g){var h=a[g];if(!h.h&&h.listener==b&&h.capture==!!d&&h.i==e)break a}g=-1}-1<g?(b=a[g],c||(b.j=!1)):(b=new I(b,this.src,f,!!d,e),b.j=c,a.push(b));return b};var L=\"closure_lm_\"+(1E6*Math.random()|0),M={},N=0,P=function(a,b,c,d,e){if(d&&d.once)return O(a,b,c,d,e);if(Array.isArray(b)){for(var f=0;f<b.length;f++)P(a,b[f],c,d,e);return null}c=Q(c);return a&&a[G]?a.g(b,c,m(d)?!!d.capture:!!d,e):R(a,b,c,!1,d,e)},R=function(a,b,c,d,e,f){if(!b)throw Error(\"a\");var g=m(e)?!!e.capture:!!e,h=S(a);h||(a[L]=h=new K(a));c=h.add(b,c,d,g,f);if(c.g)return c;d=T();c.g=d;d.src=a;d.listener=c;if(a.addEventListener)D||(e=g),void 0===e&&(e=!1),a.addEventListener(b.toString(),d,e);else if(a.attachEvent)a.attachEvent(U(b.toString()),d);else if(a.addListener&&a.removeListener)a.addListener(d);else throw Error(\"b\");N++;return c},T=function(){var a=V,b=function(c){return a.call(b.src,b.listener,c)};return b},O=function(a,b,c,d,e){if(Array.isArray(b)){for(var f=0;f<b.length;f++)O(a,b[f],c,d,e);return null}c=Q(c);return a&&a[G]?a.h(b,c,m(d)?!!d.capture:!!d,e):R(a,b,c,!0,d,e)},W=function(a){if(\"number\"!==typeof a&&a&&!a.h){var b=a.src;if(b&&b[G])b.i(a);else{var c=a.type,d=a.g;b.removeEventListener?b.removeEventListener(c,d,a.capture):b.detachEvent?b.detachEvent(U(c),d):b.addListener&&b.removeListener&&b.removeListener(d);N--;if(c=S(b)){d=a.type;if(d in c.g){var e=c.g[d],f=p(e,a),g;(g=0<=f)&&Array.prototype.splice.call(e,f,1);g&&(J(a),0==c.g[d].length&&(delete c.g[d],c.h--))}0==c.h&&(c.src=null,b[L]=null)}else J(a)}}},U=function(a){return a in M?M[a]:M[a]=\"on\"+a},V=function(a,b){if(a.h)a=!0;else{b=new F(b,this);var c=a.listener,d=a.i||a.src;a.j&&W(a);a=c.call(d,b)}return a},S=function(a){a=a[L];return a instanceof K?a:null},X=\"__closure_events_fn_\"+(1E9*Math.random()>>>0),Q=function(a){if(\"function\"===typeof a)return a;a[X]||(a[X]=function(b){return a.handleEvent(b)});return a[X]};var v,u=document.documentElement,Y;function aa(){W(Y);Y=O(u,\"mousedown\",function(){w();Z()},{capture:!0})}function Z(){W(Y);Y=P(u,\"keydown\",function(a){if(9===a.keyCode){a=u;var b=v;if(a.classList)a.classList.add(b);else if(!t(a,b)){var c=q(a);r(a,c+(0<c.length?\" \"+b:b))}aa()}})};v=\"zAoYTe\";Z();}).call(this);</script><div class=\"cOl4Id\"><a href=\"/?sa=X&amp;ved=0ahUKEwjBprK52OnyAhXmlZUCHf62BFsQOwgC\"><span class=\"V6gwVd\">G</span><span class=\"iWkuvd\">o</span><span class=\"cDrQ7\">o</span><span class=\"V6gwVd\">g</span><span class=\"ntlR9\">l</span><span class=\"iWkuvd tJ3Myc\">e</span></a></div><div class=\"bz1lBb\"><form class=\"Pg70bf\" id=\"sf\"><input name=\"rlz\" type=\"hidden\" value=\"1C1CHBF_enIN917IN917\"/><input name=\"biw\" type=\"hidden\" value=\"1731\"/><input name=\"bih\" type=\"hidden\" value=\"827\"/><input name=\"ie\" type=\"hidden\" value=\"ISO-8859-1\"/><div class=\"H0PQec\"><div class=\"sbc esbc\"><input autocapitalize=\"none\" autocomplete=\"off\" class=\"noHIxc\" name=\"q\" spellcheck=\"false\" type=\"text\" value=\"all shops list in allahabad\"/><input name=\"oq\" type=\"hidden\"/><input name=\"aqs\" type=\"hidden\"/><div class=\"x\">×</div><div class=\"sc\"></div></div></div><button id=\"qdClwb\" type=\"submit\"></button></form></div><noscript><meta content=\"0;url=/search?q=all+shops+list+in+allahabad&amp;tbm=lcl&amp;tbs=lf:1,lf_ui:10&amp;sa=X&amp;rlz=1C1CHBF_enIN917IN917&amp;biw=1731&amp;bih=827&amp;ie=UTF-8&amp;gbv=1&amp;sei=NLE1YcG8E-ar1sQP_u2S2AU\" http-equiv=\"refresh\"/><style>table,div,span,p{display:none}</style><div style=\"display:block\">Please click <a href=\"/search?q=all+shops+list+in+allahabad&amp;tbm=lcl&amp;tbs=lf:1,lf_ui:10&amp;sa=X&amp;rlz=1C1CHBF_enIN917IN917&amp;biw=1731&amp;bih=827&amp;ie=UTF-8&amp;gbv=1&amp;sei=NLE1YcG8E-ar1sQP_u2S2AU\">here</a> if you are not redirected within a few seconds.</div></noscript></header><div id=\"main\"><div><div class=\"KP7LCb\"> <div class=\"bRsWnc\"> <div class=\"N6RWV\"> <div class=\"Pg70bf Uv67qb\"> <span class=\"OXXup\">All</span> <a href=\"/search?q=all+shops+list+in+allahabad&amp;rlz=1C1CHBF_enIN917IN917&amp;biw=1731&amp;bih=827&amp;ie=UTF-8&amp;source=lnms&amp;tbm=isch&amp;sa=X&amp;ved=0ahUKEwjBprK52OnyAhXmlZUCHf62BFsQ_AUIBigB\">Images</a> <a href=\"https://maps.google.com/maps?rlz=1C1CHBF_enIN917IN917&amp;sxsrf=AOaemvK5ralzVI_3OaehGkxtzu4Fuo9PkA:1630908080217&amp;q=all+shops+list+in+allahabad&amp;rflfq=1&amp;num=10&amp;biw=1731&amp;bih=827&amp;um=1&amp;ie=UTF-8&amp;sa=X&amp;ved=0ahUKEwjBprK52OnyAhXmlZUCHf62BFsQ_AUIBygC\">Maps</a> <a href=\"/search?q=all+shops+list+in+allahabad&amp;rlz=1C1CHBF_enIN917IN917&amp;biw=1731&amp;bih=827&amp;ie=UTF-8&amp;source=lnms&amp;tbm=vid&amp;sa=X&amp;ved=0ahUKEwjBprK52OnyAhXmlZUCHf62BFsQ_AUICCgD\">Videos</a> <a href=\"/search?q=all+shops+list+in+allahabad&amp;rlz=1C1CHBF_enIN917IN917&amp;biw=1731&amp;bih=827&amp;ie=UTF-8&amp;source=lnms&amp;tbm=nws&amp;sa=X&amp;ved=0ahUKEwjBprK52OnyAhXmlZUCHf62BFsQ_AUICSgE\">News</a> <a href=\"/search?q=all+shops+list+in+allahabad&amp;rlz=1C1CHBF_enIN917IN917&amp;biw=1731&amp;bih=827&amp;ie=UTF-8&amp;source=lnms&amp;tbm=shop&amp;sa=X&amp;ved=0ahUKEwjBprK52OnyAhXmlZUCHf62BFsQ_AUICigF\">Shopping</a> <a href=\"/search?q=all+shops+list+in+allahabad&amp;rlz=1C1CHBF_enIN917IN917&amp;biw=1731&amp;bih=827&amp;ie=UTF-8&amp;source=lnms&amp;tbm=bks&amp;sa=X&amp;ved=0ahUKEwjBprK52OnyAhXmlZUCHf62BFsQ_AUICygG\">Books</a> <div class=\"FElbsf\"><a href=\"/advanced_search\" id=\"st-toggle\" role=\"button\" style=\"white-space:nowrap\">Search tools</a></div> </div> </div> </div> </div><div class=\"Pg70bf wEsjbd ZINbbc xpd O9g5cc uUPGi\" id=\"st-card\" style=\"display:none\"><style>.wEsjbd{background-color:#fff;height:44px;white-space:nowrap}.coPU8c{height:60px;overflow-scrolling:touch;overflow-x:auto;overflow-y:hidden}.Xj2aue{height:44px;overflow:hidden}.RnNGze{margin:11px 16px}.wEsjbd div,.wEsjbd a,.wEsjbd li{outline-width:0;outline:none}</style><div class=\"Xj2aue\"><div class=\"coPU8c\"><div class=\"RnNGze\"><style>.PA9J5{display:inline-block}.RXaOfd{display:inline-block;height:22px;position:relative;padding-top:0;padding-bottom:0;padding-right:16px;padding-left:0;line-height:22px;cursor:pointer;text-transform:uppercase;font-size:12px;color:#70757a}.sa1toc{display:none;position:absolute;background:#fff;border:1px solid #d6d6d6;box-shadow:0 2px 4px rgba(0,0,0,0.3);margin:0;white-space:nowrap;z-index:103;line-height:17px;padding-top:5px;padding-bottom:5px;padding-left:0}.PA9J5:hover .sa1toc{display:block}.mGSy8d a:active,.RXaOfd:active{color:#4285f4}</style><div class=\"PA9J5\"><div class=\"RXaOfd\" role=\"button\" tabindex=\"0\"><style>.TWMOUc{display:inline-block;padding-right:14px;white-space:nowrap}.vQYuGf{font-weight:bold}.OmTIzf{border-color:#909090 transparent;border-style:solid;border-width:4px 4px 0 4px;width:0;height:0;margin-left:-10px;top:50%;margin-top:-2px;position:absolute}.RXaOfd:active .OmTIzf{border-color:#4285f4 transparent}</style><div class=\"TWMOUc\">Any time</div><span class=\"OmTIzf\"></span></div><ul class=\"sa1toc ozatM\"><style>.ozatM{font-size:12px;text-transform:uppercase}.ozatM .yNFsl,.ozatM li{list-style-type:none;list-style-position:outside;list-style-image:none}.yNFsl.SkUj4c,.yNFsl a{color:rgba(0,0,0,0.54);text-decoration:none;padding:6px 44px 6px 14px;line-height:17px;display:block}.SkUj4c{background-image:url(//ssl.gstatic.com/ui/v1/menu/checkmark2.png);background-position:right center;background-repeat:no-repeat}.SkUj4c:active{background-color:#f8f9fa}</style><li class=\"yNFsl SkUj4c\">Any time</li><li class=\"yNFsl\"><a href=\"/search?q=all+shops+list+in+allahabad&amp;rlz=1C1CHBF_enIN917IN917&amp;biw=1731&amp;bih=827&amp;ie=UTF-8&amp;tbs=qdr:h&amp;source=lnt&amp;sa=X&amp;ved=0ahUKEwjBprK52OnyAhXmlZUCHf62BFsQpwUIDQ\">Past hour</a></li><li class=\"yNFsl\"><a href=\"/search?q=all+shops+list+in+allahabad&amp;rlz=1C1CHBF_enIN917IN917&amp;biw=1731&amp;bih=827&amp;ie=UTF-8&amp;tbs=qdr:d&amp;source=lnt&amp;sa=X&amp;ved=0ahUKEwjBprK52OnyAhXmlZUCHf62BFsQpwUIDg\">Past 24 hours</a></li><li class=\"yNFsl\"><a href=\"/search?q=all+shops+list+in+allahabad&amp;rlz=1C1CHBF_enIN917IN917&amp;biw=1731&amp;bih=827&amp;ie=UTF-8&amp;tbs=qdr:w&amp;source=lnt&amp;sa=X&amp;ved=0ahUKEwjBprK52OnyAhXmlZUCHf62BFsQpwUIDw\">Past week</a></li><li class=\"yNFsl\"><a href=\"/search?q=all+shops+list+in+allahabad&amp;rlz=1C1CHBF_enIN917IN917&amp;biw=1731&amp;bih=827&amp;ie=UTF-8&amp;tbs=qdr:m&amp;source=lnt&amp;sa=X&amp;ved=0ahUKEwjBprK52OnyAhXmlZUCHf62BFsQpwUIEA\">Past month</a></li><li class=\"yNFsl\"><a href=\"/search?q=all+shops+list+in+allahabad&amp;rlz=1C1CHBF_enIN917IN917&amp;biw=1731&amp;bih=827&amp;ie=UTF-8&amp;tbs=qdr:y&amp;source=lnt&amp;sa=X&amp;ved=0ahUKEwjBprK52OnyAhXmlZUCHf62BFsQpwUIEQ\">Past year</a></li></ul></div><div class=\"PA9J5\"><div class=\"RXaOfd\" role=\"button\" tabindex=\"0\"><div class=\"TWMOUc\">All results</div><span class=\"OmTIzf\"></span></div><ul class=\"sa1toc ozatM\"><li class=\"yNFsl SkUj4c\">All results</li><li class=\"yNFsl\"><a href=\"/search?q=all+shops+list+in+allahabad&amp;rlz=1C1CHBF_enIN917IN917&amp;biw=1731&amp;bih=827&amp;ie=UTF-8&amp;tbs=li:1&amp;source=lnt&amp;sa=X&amp;ved=0ahUKEwjBprK52OnyAhXmlZUCHf62BFsQpwUIEw\">Verbatim</a></li></ul></div></div></div></div><script nonce=\"ZAKzeu+gGkc1bBD/zR5sfA==\">(function(){\n",
       "var a=document.getElementById(\"st-toggle\"),b=document.getElementById(\"st-card\");a&&b&&a.addEventListener(\"click\",function(c){b.style.display=b.style.display?\"\":\"none\";c.preventDefault()},!1);}).call(this);</script></div></div><style>.ZINbbc{background-color:#fff;margin-bottom:10px;box-shadow:0 1px 6px rgba(32, 33, 36, 0.28);border-radius:8px}.uUPGi{font-size:14px;line-height:20px;}.O9g5cc>*:first-child{border-top-left-radius:8px;border-top-right-radius:8px}.O9g5cc>*:last-child{border-bottom-left-radius:8px;border-bottom-right-radius:8px}.O9g5cc>.qxDOhb>*:first-child{border-top-left-radius:8px;border-top-right-radius:8px}.O9g5cc>.qxDOhb>*:last-child{border-bottom-left-radius:8px;border-bottom-right-radius:8px}.lnWbdd{display:table;width:100%}.kvKEAb{display:table-cell;vertical-align:top}.nXE3Ob{padding-top:12px}.iafz5e{float:right;padding-left:16px}.zv7zOb{border-radius:8px;display:block}.kCrYT{padding:12px 16px 12px}.Ap5OSd{padding-bottom:12px}.BNeawe{white-space:pre-line;word-wrap:break-word}.tAd8D{font-size:14px;line-height:20px}.tAd8D.HrGdeb{color:rgba(255,255,255,.70)}.tAd8D.AP7Wnd{color:#70757a}.r0bn4c.tr0dw{color:rgba(255,255,255,.70)}.r0bn4c.rQMQod{color:#70757a}.JZCD0c{font-style:italic}</style><div><!--SW_C_X--></div><div></div><div><div class=\"ZINbbc xpd O9g5cc uUPGi\"><div><div><div><div class=\"kCrYT\"><div><div><div><div class=\"BNeawe tAd8D AP7Wnd\"><div><div class=\"BNeawe tAd8D AP7Wnd\"><span class=\"r0bn4c rQMQod\">Your search - </span><span class=\"JZCD0c r0bn4c rQMQod\">all shops list in allahabad</span><span class=\"r0bn4c rQMQod\"> - did not match any documents.\n",
       "\n",
       "Suggestions:\n",
       "Make sure that all words are spelled correctly.\n",
       "Try different keywords.\n",
       "Try more general keywords.</span></div></div></div></div></div></div></div></div></div></div></div></div><footer> <div> </div> <div id=\"EOlPnc\"><div class=\"Srfpq\"><span> - </span><a href=\"/url?q=https://support.google.com/websearch%3Fp%3Dws_settings_location%26hl%3Den-IN&amp;sa=U&amp;ved=0ahUKEwjBprK52OnyAhXmlZUCHf62BFsQty4IFw&amp;usg=AOvVaw0WbfSdmZx4spACeCUsgtlp\">Learn more</a></div><div><a href=\"/url?q=https://accounts.google.com/ServiceLogin%3Fcontinue%3Dhttps://www.google.com/search%253Frlz%253D1C1CHBF_enIN917IN917%2526tbs%253Dlf:1,lf_ui:10%2526tbm%253Dlcl%2526sxsrf%253DAOaemvK5ralzVI_3OaehGkxtzu4Fuo9PkA:1630908080217%2526q%253Dall%252Bshops%252Blist%252Bin%252Ballahabad%2526rflfq%253D1%2526num%253D10%2526sa%253DX%2526ved%253D2ahUKEwiJ5aCG1unyAhVVWysKHdPHBesQjGp6BAgMEFc%2526biw%253D1731%2526bih%253D827%26hl%3Den&amp;sa=U&amp;ved=0ahUKEwjBprK52OnyAhXmlZUCHf62BFsQxs8CCBg&amp;usg=AOvVaw2izpQYVqhTkZy0zlFtqlGr\">Sign in</a></div><div><a class=\"xeDNfc\" href=\"https://www.google.com/preferences?hl=en-IN&amp;fg=1&amp;sa=X&amp;ved=0ahUKEwjBprK52OnyAhXmlZUCHf62BFsQ5fUCCBk\">Settings</a><a class=\"xeDNfc\" href=\"https://policies.google.com/privacy?hl=en-IN&amp;fg=1\">Privacy</a><a class=\"xeDNfc\" href=\"https://policies.google.com/terms?hl=en-IN&amp;fg=1\">Terms</a></div></div> </footer><script nonce=\"ZAKzeu+gGkc1bBD/zR5sfA==\">(function(){var hl='en-IN';(function(){\n",
       "var f=this||self,g=function(a){return a};var h,k=function(){if(void 0===h){var a=null,b=f.trustedTypes;if(b&&b.createPolicy){try{a=b.createPolicy(\"goog#html\",{createHTML:g,createScript:g,createScriptURL:g})}catch(c){f.console&&f.console.error(c.message)}h=a}else h=a}return h};var n=function(a,b){this.h=a===l&&b||\"\";this.g=m},p=function(a){return a instanceof n&&a.constructor===n&&a.g===m?a.h:\"type_error:Const\"},m={},l={};var r=function(a,b){this.g=b===q?a:\"\"};r.prototype.toString=function(){return this.g+\"\"};var t=function(a){return a instanceof r&&a.constructor===r?a.g:\"type_error:TrustedResourceUrl\"},x=function(){var a={},b=p(new n(l,\"/complete/search\"));if(!u.test(b))throw Error(\"a`\"+b);var c=b.replace(v,function(e,d){if(!Object.prototype.hasOwnProperty.call(a,d))throw Error(\"b`\"+d+\"`\"+b+\"`\"+JSON.stringify(a));e=a[d];return e instanceof n?p(e):encodeURIComponent(String(e))});return w(c)},v=/%{(\\w+)}/g,u=RegExp(\"^((https:)?//[0-9a-z.:[\\\\]-]+/|/[^/\\\\\\\\]|[^:/\\\\\\\\%]+/|[^:/\\\\\\\\%]*[?#]|about:blank#)\",\"i\"),y=/^([^?#]*)(\\?[^#]*)?(#[\\s\\S]*)?/,q={},w=function(a){var b=k();a=b?b.createScriptURL(a):a;return new r(a,q)},z=function(a,b,c){if(null==c)return b;if(\"string\"===typeof c)return c?a+encodeURIComponent(c):\"\";for(var e in c)if(Object.prototype.hasOwnProperty.call(c,e)){var d=c[e];d=Array.isArray(d)?d:[d];for(var D=0;D<d.length;D++){var Q=d[D];null!=Q&&(b||(b=a),b+=(b.length>a.length?\"&\":\"\")+encodeURIComponent(e)+\"=\"+encodeURIComponent(String(Q)))}}return b};var A={},B=function(a,b,c){this.g=c===A?a:\"\"};B.prototype.toString=function(){return this.g.toString()};var C=function(a){return a instanceof B&&a.constructor===B?a.g:\"type_error:SafeHtml\"},E=function(a){var b=k();a=b?b.createHTML(a):a;return new B(a,null,A)},F=new B(f.trustedTypes&&f.trustedTypes.emptyHTML||\"\",0,A);var aa=function(a){var b=!1,c;return function(){b||(c=a(),b=!0);return c}}(function(){var a=document.createElement(\"div\"),b=document.createElement(\"div\");b.appendChild(document.createElement(\"div\"));a.appendChild(b);b=a.firstChild.firstChild;a.innerHTML=C(F);return!b.parentElement}),ba=function(a,b){if(aa())for(;a.lastChild;)a.removeChild(a.lastChild);a.innerHTML=C(b)};var G=document.querySelector(\".l\"),H=document.querySelector(\"#sf\"),I=H.querySelector(\".sbc\"),J=H.querySelector(\"[type=text]\"),K=H.querySelector(\"[type=submit]\"),L=H.querySelector(\".sc\"),M=H.querySelector(\".x\"),N=J.value,O=[],P=-1,R=N,S,T,U;N||(M&&(M.style.display=\"none\"),V(!1));function V(a){if(I.classList.contains(\"esbc\")){var b=I.classList.contains(\"chsbc\"),c=I.classList.contains(\"rtlsbc\");a&&(L.style.display=\"block\",b?(H.style.borderRadius=\"20px 20px 0 0\",L.style.borderBottom=\"1px solid #DFE1E5\",K.style.borderRadius=c?\"20px 0 0 0\":\"0 20px 0 0\"):I.style.borderRadius=c?\"0 8px 0 0\":\"8px 0 0 0\");a||(L.style.display=\"none\",b?(H.style.borderRadius=\"20px\",L.style.borderBottom=\"none\",K.style.borderRadius=c?\"20px 0 0 20px\":\"0 20px 20px 0\"):I.style.borderRadius=c?\"0 8px 8px 0\":\"8px 0 0 8px\")}}function W(){H.querySelector(\"[name=oq]\").value=R;H.querySelector(\"[name=aqs]\").value=\"heirloom-srp.\"+(0<=P?P:\"\")+\".\"+(0<O.length?\"0l\"+O.length:\"\")}\n",
       "function X(){S=null;if(T){var a={client:\"heirloom-srp\",hl:hl,json:\"t\",callback:\"hS\",q:T};\"undefined\"!==typeof ds&&ds&&(a.ds=ds);var b=document;var c=\"SCRIPT\";\"application/xhtml+xml\"===b.contentType&&(c=c.toLowerCase());c=b.createElement(c);b=x();b=y.exec(t(b).toString());var e=b[3]||\"\";a=w(b[1]+z(\"?\",b[2]||\"\",a)+z(\"#\",e,void 0));c.src=t(a);var d;a=(c.ownerDocument&&c.ownerDocument.defaultView||window).document;(d=(b=null===(d=a.querySelector)||void 0===d?void 0:d.call(a,\"script[nonce]\"))?b.nonce||\n",
       "b.getAttribute(\"nonce\")||\"\":\"\")&&c.setAttribute(\"nonce\",d);document.body.appendChild(c);T=null;S=setTimeout(X,500)}}function Y(){for(;L.firstChild;)L.removeChild(L.firstChild);O=[];P=-1;V(!1)}function Z(){var a=L.querySelector(\".scs\");a&&(a.className=\"\");0<=P?(a=L.childNodes[P],a.className=\"scs\",N=a.textContent):N=R;J.value=N}J.addEventListener(\"focus\",function(){G&&(G.style.display=\"none\")},!1);J.addEventListener(\"blur\",function(){Y();G&&(G.style.display=\"\")},!1);J.addEventListener(\"keyup\",function(a){N=J.value;U=!1;13==a.which?W():27==a.which?(Y(),G&&(G.style.display=\"\"),N=R,J.value=N):40==a.which?(P++,P>=O.length&&(P=-1),Z()):38==a.which?(P--,-1>P&&(P=O.length-1),Z()):(a=N)?(M&&(M.style.display=\"\"),T=a,S||X(),R=a):(M&&(M.style.display=\"none\"),V(!1),Y(),R=\"\",U=!0)},!1);K.addEventListener(\"click\",W,!1);M.addEventListener(\"click\",function(){J.value=\"\";M.style.display=\"none\";V(!1)},!1);I.addEventListener(\"click\",function(){J.focus()},!1);window.hS=function(a){if(!U){Y();0==a[1].length&&V(!1);for(var b=0;b<a[1].length;b++){var c=a[1][b][0],e=document.createElement(\"div\");ba(e,E(c));e.addEventListener(\"mousedown\",function(d){d.preventDefault();return!1},!1);c=c.replace(/<\\/?b>/g,\"\");e.addEventListener(\"click\",function(d){return function(){P=d;W();Z();Y();H.submit()}}(b),!1);e.addEventListener(\"mouseover\",function(d){return function(){P!=d&&(P=d,Z())}}(b),!1);L.appendChild(e);V(!0);O.push(c)}}};}).call(this);})();(function(){\n",
       "function b(a){for(a=a.target||a.srcElement;a&&\"A\"!=a.nodeName;)a=a.parentElement;a&&(a.href||\"\").match(/\\/search.*[?&]tbm=isch/)&&(a.href+=\"&biw=\"+document.documentElement.clientWidth,a.href+=\"&bih=\"+document.documentElement.clientHeight)}document.addEventListener(\"click\",b,!1);document.addEventListener(\"touchStart\",b,!1);}).call(this);</script></div><!-- cctlcm 5 cctlcm --><textarea class=\"csi\" name=\"csi\" style=\"display:none\"></textarea><script nonce=\"ZAKzeu+gGkc1bBD/zR5sfA==\">(function(){var e='NLE1YcG8E-ar1sQP_u2S2AU';var sn='local';var timl=true;(function(){\n",
       "function y(a){if(!a||z(a))return 0;if(!a.getBoundingClientRect)return 1;var c=function(b){return b.getBoundingClientRect()};return A(a,c)?0:I(a,c)}function A(a,c){var b;a:{for(b=a;b&&null!==b;b=b.parentElement)if(\"hidden\"===b.style.overflow)break a;b=null}if(!b)return!1;a=c(a);c=c(b);return a.bottom<c.top||a.top>=c.bottom||a.right<c.left||a.left>=c.right}\n",
       "function z(a){return\"none\"===a.style.display?!0:document.defaultView&&document.defaultView.getComputedStyle?(a=document.defaultView.getComputedStyle(a),!!a&&(\"hidden\"===a.visibility||\"0px\"===a.height&&\"0px\"===a.width)):!1}\n",
       "function I(a,c){var b=c(a);a=b.left+window.pageXOffset;c=b.top+window.pageYOffset;var f=b.width;b=b.height;var g=0;if(0>=b&&0>=f)return g;var n=window.innerHeight||document.documentElement.clientHeight;0>c+b?g=2:c>=n&&(g=4);if(0>a+f||a>=(window.innerWidth||document.documentElement.clientWidth))g|=8;g||(g=1,c+b>n&&(g|=4));return g};var J=e,K=sn,L=[];function M(a,c,b){a=\"/gen_204?atyp=csi&s=\"+(K||\"web\")+\"&t=\"+a+(\"&lite=1&ei=\"+J+\"&conn=\"+(window.navigator&&window.navigator.connection?window.navigator.connection.type:-1)+c);c=\"&rt=\";for(var f in b)a+=\"\"+c+f+\".\"+b[f],c=\",\";return a}function N(a){a={prt:a};window.wsrt&&(a.wsrt=window.wsrt);return a}function O(a){window.ping?window.ping(a):(new Image).src=a}\n",
       "(function(){for(var a=(new Date).getTime()-window.start,c=N(a),b=0,f=0,g=0,n=document.getElementsByTagName(\"img\"),q=\"&imn=\"+n.length+\"&biw=\"+window.innerWidth+\"&bih=\"+window.innerHeight,P=function(h,r){h.onload=function(){f=(new Date).getTime()-window.start;r&&++u==g&&(b=f,B());h.onload=null}},B=function(){q+=\"&ima=\"+g;c.aft=b;O(M(\"aft\",q,c))},u=0,Q=0,d=void 0;d=n[Q++];){var t=y(d),p=!!(t&1);p&&++g;var m=d.hasAttribute(\"data-ilite\"),v=d.hasAttribute(\"data-deferred\")||m,C=d.getAttribute(\"data-src\")||\n",
       "d.getAttribute(\"data-lzysrc\"),D=!v&&C;L.push([t,v,D,google.ldi&&d.id&&google.ldi[d.id]||m&&C]);m=(t=d.complete&&(m||!v&&!(p&&D)))&&Number(d.getAttribute(\"data-iml\"))||0;t&&m?(p&&++u,m&&(d=m-window.start,p&&(b=Math.max(b,d)),f=Math.max(f,d))):P(d,p)}b||(b=a);f||(f=b);u==g&&B();google.rglh&&google.rglh();window.addEventListener(\"load\",function(){window.setTimeout(function(){c.ol=(new Date).getTime()-window.start;timl&&(c.iml=f);var h=window.performance&&window.performance.timing;h&&(c.rqst=h.responseEnd-\n",
       "h.requestStart,c.rspt=h.responseEnd-h.responseStart);for(var r=h=0,E=0,F=0,G=0,R=0,k;k=L[R++];){var l=k[0],w=k[1],S=k[2];k=k[3];var T=0==l,x=l&8,H=l&4;l=1==l||2==l||x&&!H;!l||x||w&&!k||++E;w&&(l&&k&&++h,H&&!k&&++r);T||x?S||++G:w||++F}q+=\"&ime=\"+E+(\"&imex=\"+F+\"&imeh=\"+G)+(\"&imea=\"+h+\"&imeb=\"+r);O(M(\"all\",q,c))},0)},!1)})();}).call(this);})();</script><script nonce=\"ZAKzeu+gGkc1bBD/zR5sfA==\">(function(){var e='NLE1YcG8E-ar1sQP_u2S2AU';(function(){\n",
       "var a=e;2===(window.performance&&window.performance.navigation&&window.performance.navigation.type)&&window.ping(\"/gen_204?ct=backbutton&ei=\"+a);}).call(this);})();(function(){\n",
       "var b=[function(){google.tick&&google.tick(\"load\",\"dcl\")}];google.dclc=function(a){b.length?b.push(a):a()};function c(){for(var a;a=b.shift();)a()}window.addEventListener?(document.addEventListener(\"DOMContentLoaded\",c,!1),window.addEventListener(\"load\",c,!1)):window.attachEvent&&window.attachEvent(\"onload\",c);}).call(this);(function(){(function(){google.csct={};google.csct.ps='AOvVaw18NrVgW497I-usIdhZ9qDH\\x26ust\\x3d1630995124343331';})();})();(function(){(function(){google.csct.rd=true;})();})();google.drty&&google.drty();</script></body></html>"
      ]
     },
     "execution_count": 7,
     "metadata": {},
     "output_type": "execute_result"
    }
   ],
   "source": [
    "soup"
   ]
  },
  {
   "cell_type": "markdown",
   "metadata": {},
   "source": [
    "## Results"
   ]
  },
  {
   "cell_type": "code",
   "execution_count": 11,
   "metadata": {},
   "outputs": [],
   "source": [
    "results = soup.find_all('div', {'class':'OfferBox'})"
   ]
  },
  {
   "cell_type": "code",
   "execution_count": 12,
   "metadata": {},
   "outputs": [
    {
     "data": {
      "text/plain": [
       "0"
      ]
     },
     "execution_count": 12,
     "metadata": {},
     "output_type": "execute_result"
    }
   ],
   "source": [
    "len(results)"
   ]
  },
  {
   "cell_type": "code",
   "execution_count": 14,
   "metadata": {
    "scrolled": true
   },
   "outputs": [
    {
     "ename": "IndexError",
     "evalue": "list index out of range",
     "output_type": "error",
     "traceback": [
      "\u001b[1;31m---------------------------------------------------------------------------\u001b[0m",
      "\u001b[1;31mIndexError\u001b[0m                                Traceback (most recent call last)",
      "\u001b[1;32m<ipython-input-14-33b2b4aae0a9>\u001b[0m in \u001b[0;36m<module>\u001b[1;34m\u001b[0m\n\u001b[1;32m----> 1\u001b[1;33m \u001b[0mresults\u001b[0m\u001b[1;33m[\u001b[0m\u001b[1;36m1\u001b[0m\u001b[1;33m]\u001b[0m\u001b[1;33m\u001b[0m\u001b[1;33m\u001b[0m\u001b[0m\n\u001b[0m",
      "\u001b[1;31mIndexError\u001b[0m: list index out of range"
     ]
    }
   ],
   "source": [
    "results[1]"
   ]
  },
  {
   "cell_type": "markdown",
   "metadata": {},
   "source": [
    "## Fetching Necessary data"
   ]
  },
  {
   "cell_type": "markdown",
   "metadata": {},
   "source": [
    "### Product Name"
   ]
  },
  {
   "cell_type": "code",
   "execution_count": 11,
   "metadata": {},
   "outputs": [
    {
     "data": {
      "text/plain": [
       "'Samsung Galaxy Tab Active 3 64GB LTE 8 Inch Tablet - Black - SM-T575NZKAEEA'"
      ]
     },
     "execution_count": 11,
     "metadata": {},
     "output_type": "execute_result"
    }
   ],
   "source": [
    "results[0].find('a', {'class': 'offerboxtitle'}).get_text()"
   ]
  },
  {
   "cell_type": "markdown",
   "metadata": {},
   "source": [
    "### Product Price"
   ]
  },
  {
   "cell_type": "code",
   "execution_count": 12,
   "metadata": {},
   "outputs": [
    {
     "data": {
      "text/plain": [
       "'£449.97'"
      ]
     },
     "execution_count": 12,
     "metadata": {},
     "output_type": "execute_result"
    }
   ],
   "source": [
    "results[0].find('span', {'class': 'offerprice'}).get_text()"
   ]
  },
  {
   "cell_type": "markdown",
   "metadata": {},
   "source": [
    "### Product Reviews"
   ]
  },
  {
   "cell_type": "code",
   "execution_count": 13,
   "metadata": {},
   "outputs": [
    {
     "data": {
      "text/plain": [
       "'9'"
      ]
     },
     "execution_count": 13,
     "metadata": {},
     "output_type": "execute_result"
    }
   ],
   "source": [
    "results[0].find('star-rating').get('rating-value')"
   ]
  },
  {
   "cell_type": "markdown",
   "metadata": {},
   "source": [
    "### Reviews Count"
   ]
  },
  {
   "cell_type": "code",
   "execution_count": 14,
   "metadata": {},
   "outputs": [
    {
     "data": {
      "text/plain": [
       "'2'"
      ]
     },
     "execution_count": 14,
     "metadata": {},
     "output_type": "execute_result"
    }
   ],
   "source": [
    "results[0].find('star-rating').get('ratings-count')"
   ]
  },
  {
   "cell_type": "markdown",
   "metadata": {},
   "source": [
    "### Relative URL"
   ]
  },
  {
   "cell_type": "code",
   "execution_count": 15,
   "metadata": {},
   "outputs": [],
   "source": [
    "# extract the relative url\n",
    "relative_url = results[0].find('a', {'class': 'offerboxtitle'}).get('href')"
   ]
  },
  {
   "cell_type": "code",
   "execution_count": 16,
   "metadata": {},
   "outputs": [
    {
     "data": {
      "text/plain": [
       "'/samsung-galaxy-tab-active-3-64gb-8-inch-tablet-black-sm-t575nzkaeea/version.asp'"
      ]
     },
     "execution_count": 16,
     "metadata": {},
     "output_type": "execute_result"
    }
   ],
   "source": [
    "relative_url"
   ]
  },
  {
   "cell_type": "code",
   "execution_count": 17,
   "metadata": {},
   "outputs": [],
   "source": [
    "# provide the root element inside a variable\n",
    "root_url = 'https://www.laptopsdirect.co.uk'"
   ]
  },
  {
   "cell_type": "code",
   "execution_count": 18,
   "metadata": {},
   "outputs": [],
   "source": [
    "# combine the both URLs which is root element and relative url\n",
    "url_combine = root_url + relative_url"
   ]
  },
  {
   "cell_type": "code",
   "execution_count": 19,
   "metadata": {},
   "outputs": [
    {
     "data": {
      "text/plain": [
       "'https://www.laptopsdirect.co.uk/samsung-galaxy-tab-active-3-64gb-8-inch-tablet-black-sm-t575nzkaeea/version.asp'"
      ]
     },
     "execution_count": 19,
     "metadata": {},
     "output_type": "execute_result"
    }
   ],
   "source": [
    "url_combine"
   ]
  },
  {
   "cell_type": "markdown",
   "metadata": {},
   "source": [
    "### Product Details"
   ]
  },
  {
   "cell_type": "code",
   "execution_count": 20,
   "metadata": {},
   "outputs": [
    {
     "data": {
      "text/plain": [
       "'Exynos 9810 Processor, 8Inch Display, 64GB Storage, 4GB RAM, 2 year warranty'"
      ]
     },
     "execution_count": 20,
     "metadata": {},
     "output_type": "execute_result"
    }
   ],
   "source": [
    "results[0].find('div', {'class': 'productInfo'}).get_text().strip().replace('\\n', ', ')"
   ]
  },
  {
   "cell_type": "markdown",
   "metadata": {},
   "source": [
    "### Everything Together With For Loop"
   ]
  },
  {
   "cell_type": "code",
   "execution_count": 21,
   "metadata": {},
   "outputs": [],
   "source": [
    "product_name = []\n",
    "product_price = []\n",
    "review_rating = []\n",
    "review_count = []\n",
    "relative_url = []\n",
    "product_details = []\n",
    "\n",
    "for result in results:\n",
    "    \n",
    "    #name\n",
    "    try:\n",
    "        product_name.append(result.find('a', {'class': 'offerboxtitle'}).get_text())\n",
    "    except:\n",
    "        product_name.append('n/a')\n",
    "        \n",
    "    #price\n",
    "    try:\n",
    "        product_price.append(result.find('span', {'class': 'offerprice'}).get_text())\n",
    "    except:\n",
    "        product_price.append('n/a')\n",
    "        \n",
    "    #review rating\n",
    "    try:\n",
    "        review_rating.append(result.find('star-rating').get('rating-value'))\n",
    "    except:\n",
    "        review_rating.append('n/a')\n",
    "        \n",
    "    #review rating\n",
    "    try:\n",
    "        review_count.append(result.find('star-rating').get('ratings-count'))\n",
    "    except:\n",
    "        review_count.append('n/a')\n",
    "        \n",
    "    #relative url\n",
    "    try:\n",
    "        relative_url.append(result.find('a', {'class': 'offerboxtitle'}).get('href'))\n",
    "    except:\n",
    "        relative_url.append('n/a')\n",
    "        \n",
    "    #product details\n",
    "    try:\n",
    "        product_details.append(result.find('div', {'class': 'productInfo'}).get_text().strip().replace('\\n', ', '))\n",
    "    except:\n",
    "        product_details.append.append('n/a')\n",
    "        "
   ]
  },
  {
   "cell_type": "markdown",
   "metadata": {},
   "source": [
    "### Combining URLs"
   ]
  },
  {
   "cell_type": "code",
   "execution_count": 22,
   "metadata": {},
   "outputs": [],
   "source": [
    "url_combined = []\n",
    "\n",
    "for link in relative_url:\n",
    "    url_combined.append(urllib.parse.urljoin(root_url, link))"
   ]
  },
  {
   "cell_type": "code",
   "execution_count": 23,
   "metadata": {},
   "outputs": [
    {
     "data": {
      "text/plain": [
       "['https://www.laptopsdirect.co.uk/samsung-galaxy-tab-active-3-64gb-8-inch-tablet-black-sm-t575nzkaeea/version.asp',\n",
       " 'https://www.laptopsdirect.co.uk/samsung-galaxy-tab-a7-3gb-32gb-wi-fi-10.4-inch-tablet-grey-sm-t500nzaaeua/version.asp',\n",
       " 'https://www.laptopsdirect.co.uk/refurbished-samsung-galaxy-tab-s6-lite-64gb-10.4-inch-4g-tablet-a1-sm-p615/version.asp',\n",
       " 'https://www.laptopsdirect.co.uk/samsung-galaxy-tab-s6-lite-wi-fi-4gb-64gb-10.4-inch-android-tablet-sm-p610nzaabtu/version.asp',\n",
       " 'https://www.laptopsdirect.co.uk/samsung-galaxy-tab-active-pro-4g-4gb-64gb-10.1-inch-android-tablet-sm-t545nzkau07/version.asp',\n",
       " 'https://www.laptopsdirect.co.uk/-sm-t395nzkabtu/version.asp',\n",
       " 'https://www.laptopsdirect.co.uk/-sm-t290nzkabtu/version.asp',\n",
       " 'https://www.laptopsdirect.co.uk/samsung-galaxy-tab-s6-lite-lte-4gb-64gb-10.4-inch-android-tablet-sm-p615nzaabtu/version.asp',\n",
       " 'https://www.laptopsdirect.co.uk/samsung-galaxy-tab-a7-3gb-32gb-ssd-wi-fi-10.4-inch-tablet-silver-sm-t500nzsaeua/version.asp',\n",
       " 'https://www.laptopsdirect.co.uk/samsung-galaxy-tab-a7-3gb-32gb-ssd-lte-10.4-inch-tablet-grey-sm-t505nzaaeua/version.asp',\n",
       " 'https://www.laptopsdirect.co.uk/samsung-galaxy-tab-a-2019-android-9.0-pie-32gb-8-inch-lte-tablet-black-sm-t295nzkabtu/version.asp',\n",
       " 'https://www.laptopsdirect.co.uk/samsung-galaxy-tab-a-t290-32gb-8-inch-tablet-black-sm-t290blk/version.asp',\n",
       " 'https://www.laptopsdirect.co.uk/samsung-galaxy-tab-s6-8gb-256gb-ssd-10.5-inch-android-tablet-sm-t865nzalbtu/version.asp',\n",
       " 'https://www.laptopsdirect.co.uk/refurbished-refurbished-samsung-galaxy-tab-s6-lite-64gb-10.4-inch-4g-tablet-a2-sm-p615/version.asp',\n",
       " 'https://www.laptopsdirect.co.uk/samsung-galaxy-tab-a7-32gb-wi-fi-8.7-inch-tablet-sm-t220nzaaeua/version.asp',\n",
       " 'https://www.laptopsdirect.co.uk/samsung-galaxy-tab-a7-lite-32gb-andriod-8.7-inch-tablet-sm-t225nzaaeua/version.asp',\n",
       " 'https://www.laptopsdirect.co.uk/samsung-galaxy-tab-s7-lite-64gb-5g-tablet-black-sm-t736bzkaeua/version.asp',\n",
       " 'https://www.laptopsdirect.co.uk/grade-a2-samsung-galaxy-tab-s6-6gb-128gb-ssd-10.5-inch-android-tablet-g-77997820-1-sm-t865nzalbt/version.asp',\n",
       " 'https://www.laptopsdirect.co.uk/refurbished-samsung-galaxy-tab-a7-32gb-10.4-4g-tablet-black-a1-sm-t505/version.asp',\n",
       " 'https://www.laptopsdirect.co.uk/refurbished-samsung-galaxy-tab-s7-128gb-11-4g-tablet-mystic-black-a2-sm-t875nzkaeua/version.asp',\n",
       " 'https://www.laptopsdirect.co.uk/grade-a1-samsung-galaxy-tab-a7-3gb-32gb-ssd-wi-fi-10.4-inch-tablet-gold-a1-sm-t500nzdaeua/version.asp',\n",
       " 'https://www.laptopsdirect.co.uk/samsung-galaxy-tab-a7-lite-32gb-wi-fi-10.4-inch-tablet-sm-t220nzsaeua/version.asp',\n",
       " 'https://www.laptopsdirect.co.uk/samsung-galaxy-tab-7-3gb-32gb-ssd-lte-10.4-inch-tablet-silver-sm-t505nzsaeua/version.asp',\n",
       " 'https://www.laptopsdirect.co.uk/samsung-galaxy-tab-s7-8gb-256gb-lte-11-inch-tablet-black-sm-t875nzkeeua/version.asp']"
      ]
     },
     "execution_count": 23,
     "metadata": {},
     "output_type": "execute_result"
    }
   ],
   "source": [
    "url_combined"
   ]
  },
  {
   "cell_type": "markdown",
   "metadata": {},
   "source": [
    "### Create Pandas Dataframe"
   ]
  },
  {
   "cell_type": "code",
   "execution_count": 24,
   "metadata": {},
   "outputs": [],
   "source": [
    "product_overview = pd.DataFrame({'Product Name': product_name, 'Product Price': product_price, 'Rating': review_rating,\n",
    "                                'Review Count': review_count, 'Link': url_combined, 'Details': product_details})"
   ]
  },
  {
   "cell_type": "code",
   "execution_count": 25,
   "metadata": {},
   "outputs": [
    {
     "data": {
      "text/html": [
       "<div>\n",
       "<style scoped>\n",
       "    .dataframe tbody tr th:only-of-type {\n",
       "        vertical-align: middle;\n",
       "    }\n",
       "\n",
       "    .dataframe tbody tr th {\n",
       "        vertical-align: top;\n",
       "    }\n",
       "\n",
       "    .dataframe thead th {\n",
       "        text-align: right;\n",
       "    }\n",
       "</style>\n",
       "<table border=\"1\" class=\"dataframe\">\n",
       "  <thead>\n",
       "    <tr style=\"text-align: right;\">\n",
       "      <th></th>\n",
       "      <th>Product Name</th>\n",
       "      <th>Product Price</th>\n",
       "      <th>Rating</th>\n",
       "      <th>Review Count</th>\n",
       "      <th>Link</th>\n",
       "      <th>Details</th>\n",
       "    </tr>\n",
       "  </thead>\n",
       "  <tbody>\n",
       "    <tr>\n",
       "      <th>0</th>\n",
       "      <td>Samsung Galaxy Tab Active 3 64GB LTE 8 Inch Ta...</td>\n",
       "      <td>£449.97</td>\n",
       "      <td>9</td>\n",
       "      <td>2</td>\n",
       "      <td>https://www.laptopsdirect.co.uk/samsung-galaxy...</td>\n",
       "      <td>Exynos 9810 Processor, 8Inch Display, 64GB Sto...</td>\n",
       "    </tr>\n",
       "    <tr>\n",
       "      <th>1</th>\n",
       "      <td>Samsung Galaxy Tab A7 32GB 10.4 Inch Tablet - ...</td>\n",
       "      <td>£189.97</td>\n",
       "      <td>8.9</td>\n",
       "      <td>1368</td>\n",
       "      <td>https://www.laptopsdirect.co.uk/samsung-galaxy...</td>\n",
       "      <td>10.4Inch Display, 32GB Storage, 3GB RAM, 1 yea...</td>\n",
       "    </tr>\n",
       "    <tr>\n",
       "      <th>2</th>\n",
       "      <td>Refurbished Samsung Galaxy Tab S6 Lite 64GB Ce...</td>\n",
       "      <td>£239.97</td>\n",
       "      <td>n/a</td>\n",
       "      <td>n/a</td>\n",
       "      <td>https://www.laptopsdirect.co.uk/refurbished-sa...</td>\n",
       "      <td>10.4Inch Display, 64GB Storage, 4GB RAM, 3 Mon...</td>\n",
       "    </tr>\n",
       "    <tr>\n",
       "      <th>3</th>\n",
       "      <td>Samsung Galaxy Tab S6 Lite 64GB 10.4 Inch Andr...</td>\n",
       "      <td>£329.97</td>\n",
       "      <td>9</td>\n",
       "      <td>2</td>\n",
       "      <td>https://www.laptopsdirect.co.uk/samsung-galaxy...</td>\n",
       "      <td>10.4Inch Display, 64GB Storage, 4GB RAM, 2 yea...</td>\n",
       "    </tr>\n",
       "    <tr>\n",
       "      <th>4</th>\n",
       "      <td>Samsung Galaxy Tab Active Pro 4G 64GB 10.1 Inc...</td>\n",
       "      <td>£569.97</td>\n",
       "      <td>9.3</td>\n",
       "      <td>3</td>\n",
       "      <td>https://www.laptopsdirect.co.uk/samsung-galaxy...</td>\n",
       "      <td>10.1Inch Display, 64GB Storage, 4GB RAM, 2 yea...</td>\n",
       "    </tr>\n",
       "    <tr>\n",
       "      <th>5</th>\n",
       "      <td>Samsung Galaxy Tab Active2 T395 8 Inch Rugged ...</td>\n",
       "      <td>£423.97</td>\n",
       "      <td>7.9</td>\n",
       "      <td>10</td>\n",
       "      <td>https://www.laptopsdirect.co.uk/-sm-t395nzkabt...</td>\n",
       "      <td>8Inch Display, 16GB Storage, 3GB RAM, 2 year w...</td>\n",
       "    </tr>\n",
       "    <tr>\n",
       "      <th>6</th>\n",
       "      <td>Samsung Galaxy Tab A T290 8 Inch  Tablet - Bla...</td>\n",
       "      <td>£134.36</td>\n",
       "      <td>8.7</td>\n",
       "      <td>954</td>\n",
       "      <td>https://www.laptopsdirect.co.uk/-sm-t290nzkabt...</td>\n",
       "      <td>8Inch Display, 32GB Storage, 2GB RAM, 1 year w...</td>\n",
       "    </tr>\n",
       "    <tr>\n",
       "      <th>7</th>\n",
       "      <td>Samsung Galaxy Tab S6 Lite LTE 64GB 10.4 Inch ...</td>\n",
       "      <td>£386.36</td>\n",
       "      <td>9</td>\n",
       "      <td>8153</td>\n",
       "      <td>https://www.laptopsdirect.co.uk/samsung-galaxy...</td>\n",
       "      <td>10.4Inch Display, 64GB Storage, 4GB RAM, 2 yea...</td>\n",
       "    </tr>\n",
       "    <tr>\n",
       "      <th>8</th>\n",
       "      <td>Samsung Galaxy Tab A7 32GB SSD  10.4 Inch Tabl...</td>\n",
       "      <td>£224.97</td>\n",
       "      <td>8.9</td>\n",
       "      <td>656</td>\n",
       "      <td>https://www.laptopsdirect.co.uk/samsung-galaxy...</td>\n",
       "      <td>10.4Inch Display, 32GB Storage, 3GB RAM, 1 yea...</td>\n",
       "    </tr>\n",
       "    <tr>\n",
       "      <th>9</th>\n",
       "      <td>Samsung Galaxy Tab A7 32GB SSD LTE 10.4 Inch T...</td>\n",
       "      <td>£219.97</td>\n",
       "      <td>8.8</td>\n",
       "      <td>71</td>\n",
       "      <td>https://www.laptopsdirect.co.uk/samsung-galaxy...</td>\n",
       "      <td>10.4Inch Display, 32GB Storage, 3GB RAM, 1 yea...</td>\n",
       "    </tr>\n",
       "    <tr>\n",
       "      <th>10</th>\n",
       "      <td>Samsung Galaxy Tab A 2019 Android 9.0 Pie 32GB...</td>\n",
       "      <td>£134.97</td>\n",
       "      <td>10</td>\n",
       "      <td>2</td>\n",
       "      <td>https://www.laptopsdirect.co.uk/samsung-galaxy...</td>\n",
       "      <td>8Inch Display, 32GB Storage, 2GB RAM, 1 year w...</td>\n",
       "    </tr>\n",
       "    <tr>\n",
       "      <th>11</th>\n",
       "      <td>Samsung Galaxy Tab A T290 32GB 8 Inch Tablet -...</td>\n",
       "      <td>£124.97</td>\n",
       "      <td>n/a</td>\n",
       "      <td>n/a</td>\n",
       "      <td>https://www.laptopsdirect.co.uk/samsung-galaxy...</td>\n",
       "      <td>8Inch Display, 32GB Storage, 2GB RAM, 1 year w...</td>\n",
       "    </tr>\n",
       "    <tr>\n",
       "      <th>12</th>\n",
       "      <td>Samsung Galaxy Tab S6 128GB SSD 10.5 Inch Andr...</td>\n",
       "      <td>£519.97</td>\n",
       "      <td>9</td>\n",
       "      <td>8153</td>\n",
       "      <td>https://www.laptopsdirect.co.uk/samsung-galaxy...</td>\n",
       "      <td>Snapdragon 855 Processor, 10.5Inch Display, 12...</td>\n",
       "    </tr>\n",
       "    <tr>\n",
       "      <th>13</th>\n",
       "      <td>Refurbished Samsung Galaxy Tab S6 Lite 64GB Ce...</td>\n",
       "      <td>£229.97</td>\n",
       "      <td>n/a</td>\n",
       "      <td>n/a</td>\n",
       "      <td>https://www.laptopsdirect.co.uk/refurbished-re...</td>\n",
       "      <td>10.4Inch Display, 64GB Storage, 4GB RAM, 3 Mon...</td>\n",
       "    </tr>\n",
       "    <tr>\n",
       "      <th>14</th>\n",
       "      <td>Samsung Galaxy Tab A7 32GB 8.7 Inch Tablet - S...</td>\n",
       "      <td>£154.97</td>\n",
       "      <td>n/a</td>\n",
       "      <td>n/a</td>\n",
       "      <td>https://www.laptopsdirect.co.uk/samsung-galaxy...</td>\n",
       "      <td>8.7Inch Display, 32GB Storage, 3GB RAM, 1 year...</td>\n",
       "    </tr>\n",
       "    <tr>\n",
       "      <th>15</th>\n",
       "      <td>Samsung Galaxy Tab A7 Lite 32GB Andriod 8.7 In...</td>\n",
       "      <td>£184.97</td>\n",
       "      <td>n/a</td>\n",
       "      <td>n/a</td>\n",
       "      <td>https://www.laptopsdirect.co.uk/samsung-galaxy...</td>\n",
       "      <td>8.7Inch Display, 32GB Storage, 4GB RAM, 1 year...</td>\n",
       "    </tr>\n",
       "    <tr>\n",
       "      <th>16</th>\n",
       "      <td>Samsung Galaxy Tab S7+ Lite 64GB 5G Tablet - B...</td>\n",
       "      <td>£594.97</td>\n",
       "      <td>n/a</td>\n",
       "      <td>n/a</td>\n",
       "      <td>https://www.laptopsdirect.co.uk/samsung-galaxy...</td>\n",
       "      <td>Snapdragon 750G Processor, 12.4Inch Display, 6...</td>\n",
       "    </tr>\n",
       "    <tr>\n",
       "      <th>17</th>\n",
       "      <td>GRADE A2 - Samsung Galaxy Tab S6 6GB 128GB SSD...</td>\n",
       "      <td>£467.98</td>\n",
       "      <td>9</td>\n",
       "      <td>8153</td>\n",
       "      <td>https://www.laptopsdirect.co.uk/grade-a2-samsu...</td>\n",
       "      <td>Snapdragon 855 Processor, 10.5 Inch Display, 2...</td>\n",
       "    </tr>\n",
       "    <tr>\n",
       "      <th>18</th>\n",
       "      <td>Refurbished Samsung Galaxy Tab A7 32GB 10\" 4G ...</td>\n",
       "      <td>£189.97</td>\n",
       "      <td>n/a</td>\n",
       "      <td>n/a</td>\n",
       "      <td>https://www.laptopsdirect.co.uk/refurbished-sa...</td>\n",
       "      <td>10Inch Display, 32GB Storage, 3GB RAM, 3 Month...</td>\n",
       "    </tr>\n",
       "    <tr>\n",
       "      <th>19</th>\n",
       "      <td>Refurbished Samsung Galaxy Tab S7 128GB 11\" 4G...</td>\n",
       "      <td>£499.97</td>\n",
       "      <td>n/a</td>\n",
       "      <td>n/a</td>\n",
       "      <td>https://www.laptopsdirect.co.uk/refurbished-sa...</td>\n",
       "      <td>11Inch Display, 128GB Storage, 6GB RAM, 3 Mont...</td>\n",
       "    </tr>\n",
       "    <tr>\n",
       "      <th>20</th>\n",
       "      <td>GRADE A1 - Samsung Galaxy Tab A7 3GB 32GB SSD ...</td>\n",
       "      <td>£213.72</td>\n",
       "      <td>9.1</td>\n",
       "      <td>684</td>\n",
       "      <td>https://www.laptopsdirect.co.uk/grade-a1-samsu...</td>\n",
       "      <td>10.4 Inch Display, 32GB Storage, 3GB RAM, 3 Mo...</td>\n",
       "    </tr>\n",
       "    <tr>\n",
       "      <th>21</th>\n",
       "      <td>Samsung Galaxy Tab A7 Lite 32GB 10.4 Inch Tabl...</td>\n",
       "      <td>£154.97</td>\n",
       "      <td>n/a</td>\n",
       "      <td>n/a</td>\n",
       "      <td>https://www.laptopsdirect.co.uk/samsung-galaxy...</td>\n",
       "      <td>8.7Inch Display, 32GB Storage, 3GB RAM, 1 year...</td>\n",
       "    </tr>\n",
       "    <tr>\n",
       "      <th>22</th>\n",
       "      <td>Samsung Galaxy Tab 7 32GB SSD LTE 10.4 Inch Ta...</td>\n",
       "      <td>£219.97</td>\n",
       "      <td>9.1</td>\n",
       "      <td>52</td>\n",
       "      <td>https://www.laptopsdirect.co.uk/samsung-galaxy...</td>\n",
       "      <td>10.4 Display, 32GB Storage, 3 RAM, 1 year warr...</td>\n",
       "    </tr>\n",
       "    <tr>\n",
       "      <th>23</th>\n",
       "      <td>Samsung Galaxy Tab S7 8GB 256GB LTE 11 Inch Ta...</td>\n",
       "      <td>£809.97</td>\n",
       "      <td>n/a</td>\n",
       "      <td>n/a</td>\n",
       "      <td>https://www.laptopsdirect.co.uk/samsung-galaxy...</td>\n",
       "      <td>Snapdragon 865+ Processor, 11Inch Display, 256...</td>\n",
       "    </tr>\n",
       "  </tbody>\n",
       "</table>\n",
       "</div>"
      ],
      "text/plain": [
       "                                         Product Name Product Price Rating  \\\n",
       "0   Samsung Galaxy Tab Active 3 64GB LTE 8 Inch Ta...       £449.97      9   \n",
       "1   Samsung Galaxy Tab A7 32GB 10.4 Inch Tablet - ...       £189.97    8.9   \n",
       "2   Refurbished Samsung Galaxy Tab S6 Lite 64GB Ce...       £239.97    n/a   \n",
       "3   Samsung Galaxy Tab S6 Lite 64GB 10.4 Inch Andr...       £329.97      9   \n",
       "4   Samsung Galaxy Tab Active Pro 4G 64GB 10.1 Inc...       £569.97    9.3   \n",
       "5   Samsung Galaxy Tab Active2 T395 8 Inch Rugged ...       £423.97    7.9   \n",
       "6   Samsung Galaxy Tab A T290 8 Inch  Tablet - Bla...       £134.36    8.7   \n",
       "7   Samsung Galaxy Tab S6 Lite LTE 64GB 10.4 Inch ...       £386.36      9   \n",
       "8   Samsung Galaxy Tab A7 32GB SSD  10.4 Inch Tabl...       £224.97    8.9   \n",
       "9   Samsung Galaxy Tab A7 32GB SSD LTE 10.4 Inch T...       £219.97    8.8   \n",
       "10  Samsung Galaxy Tab A 2019 Android 9.0 Pie 32GB...       £134.97     10   \n",
       "11  Samsung Galaxy Tab A T290 32GB 8 Inch Tablet -...       £124.97    n/a   \n",
       "12  Samsung Galaxy Tab S6 128GB SSD 10.5 Inch Andr...       £519.97      9   \n",
       "13  Refurbished Samsung Galaxy Tab S6 Lite 64GB Ce...       £229.97    n/a   \n",
       "14  Samsung Galaxy Tab A7 32GB 8.7 Inch Tablet - S...       £154.97    n/a   \n",
       "15  Samsung Galaxy Tab A7 Lite 32GB Andriod 8.7 In...       £184.97    n/a   \n",
       "16  Samsung Galaxy Tab S7+ Lite 64GB 5G Tablet - B...       £594.97    n/a   \n",
       "17  GRADE A2 - Samsung Galaxy Tab S6 6GB 128GB SSD...       £467.98      9   \n",
       "18  Refurbished Samsung Galaxy Tab A7 32GB 10\" 4G ...       £189.97    n/a   \n",
       "19  Refurbished Samsung Galaxy Tab S7 128GB 11\" 4G...       £499.97    n/a   \n",
       "20  GRADE A1 - Samsung Galaxy Tab A7 3GB 32GB SSD ...       £213.72    9.1   \n",
       "21  Samsung Galaxy Tab A7 Lite 32GB 10.4 Inch Tabl...       £154.97    n/a   \n",
       "22  Samsung Galaxy Tab 7 32GB SSD LTE 10.4 Inch Ta...       £219.97    9.1   \n",
       "23  Samsung Galaxy Tab S7 8GB 256GB LTE 11 Inch Ta...       £809.97    n/a   \n",
       "\n",
       "   Review Count                                               Link  \\\n",
       "0             2  https://www.laptopsdirect.co.uk/samsung-galaxy...   \n",
       "1          1368  https://www.laptopsdirect.co.uk/samsung-galaxy...   \n",
       "2           n/a  https://www.laptopsdirect.co.uk/refurbished-sa...   \n",
       "3             2  https://www.laptopsdirect.co.uk/samsung-galaxy...   \n",
       "4             3  https://www.laptopsdirect.co.uk/samsung-galaxy...   \n",
       "5            10  https://www.laptopsdirect.co.uk/-sm-t395nzkabt...   \n",
       "6           954  https://www.laptopsdirect.co.uk/-sm-t290nzkabt...   \n",
       "7          8153  https://www.laptopsdirect.co.uk/samsung-galaxy...   \n",
       "8           656  https://www.laptopsdirect.co.uk/samsung-galaxy...   \n",
       "9            71  https://www.laptopsdirect.co.uk/samsung-galaxy...   \n",
       "10            2  https://www.laptopsdirect.co.uk/samsung-galaxy...   \n",
       "11          n/a  https://www.laptopsdirect.co.uk/samsung-galaxy...   \n",
       "12         8153  https://www.laptopsdirect.co.uk/samsung-galaxy...   \n",
       "13          n/a  https://www.laptopsdirect.co.uk/refurbished-re...   \n",
       "14          n/a  https://www.laptopsdirect.co.uk/samsung-galaxy...   \n",
       "15          n/a  https://www.laptopsdirect.co.uk/samsung-galaxy...   \n",
       "16          n/a  https://www.laptopsdirect.co.uk/samsung-galaxy...   \n",
       "17         8153  https://www.laptopsdirect.co.uk/grade-a2-samsu...   \n",
       "18          n/a  https://www.laptopsdirect.co.uk/refurbished-sa...   \n",
       "19          n/a  https://www.laptopsdirect.co.uk/refurbished-sa...   \n",
       "20          684  https://www.laptopsdirect.co.uk/grade-a1-samsu...   \n",
       "21          n/a  https://www.laptopsdirect.co.uk/samsung-galaxy...   \n",
       "22           52  https://www.laptopsdirect.co.uk/samsung-galaxy...   \n",
       "23          n/a  https://www.laptopsdirect.co.uk/samsung-galaxy...   \n",
       "\n",
       "                                              Details  \n",
       "0   Exynos 9810 Processor, 8Inch Display, 64GB Sto...  \n",
       "1   10.4Inch Display, 32GB Storage, 3GB RAM, 1 yea...  \n",
       "2   10.4Inch Display, 64GB Storage, 4GB RAM, 3 Mon...  \n",
       "3   10.4Inch Display, 64GB Storage, 4GB RAM, 2 yea...  \n",
       "4   10.1Inch Display, 64GB Storage, 4GB RAM, 2 yea...  \n",
       "5   8Inch Display, 16GB Storage, 3GB RAM, 2 year w...  \n",
       "6   8Inch Display, 32GB Storage, 2GB RAM, 1 year w...  \n",
       "7   10.4Inch Display, 64GB Storage, 4GB RAM, 2 yea...  \n",
       "8   10.4Inch Display, 32GB Storage, 3GB RAM, 1 yea...  \n",
       "9   10.4Inch Display, 32GB Storage, 3GB RAM, 1 yea...  \n",
       "10  8Inch Display, 32GB Storage, 2GB RAM, 1 year w...  \n",
       "11  8Inch Display, 32GB Storage, 2GB RAM, 1 year w...  \n",
       "12  Snapdragon 855 Processor, 10.5Inch Display, 12...  \n",
       "13  10.4Inch Display, 64GB Storage, 4GB RAM, 3 Mon...  \n",
       "14  8.7Inch Display, 32GB Storage, 3GB RAM, 1 year...  \n",
       "15  8.7Inch Display, 32GB Storage, 4GB RAM, 1 year...  \n",
       "16  Snapdragon 750G Processor, 12.4Inch Display, 6...  \n",
       "17  Snapdragon 855 Processor, 10.5 Inch Display, 2...  \n",
       "18  10Inch Display, 32GB Storage, 3GB RAM, 3 Month...  \n",
       "19  11Inch Display, 128GB Storage, 6GB RAM, 3 Mont...  \n",
       "20  10.4 Inch Display, 32GB Storage, 3GB RAM, 3 Mo...  \n",
       "21  8.7Inch Display, 32GB Storage, 3GB RAM, 1 year...  \n",
       "22  10.4 Display, 32GB Storage, 3 RAM, 1 year warr...  \n",
       "23  Snapdragon 865+ Processor, 11Inch Display, 256...  "
      ]
     },
     "execution_count": 25,
     "metadata": {},
     "output_type": "execute_result"
    }
   ],
   "source": [
    "product_overview"
   ]
  },
  {
   "cell_type": "markdown",
   "metadata": {},
   "source": [
    "### Export output In Excel Format"
   ]
  },
  {
   "cell_type": "code",
   "execution_count": 26,
   "metadata": {},
   "outputs": [],
   "source": [
    "product_overview.to_excel('results_single_page.xlsx', index=False)"
   ]
  },
  {
   "cell_type": "markdown",
   "metadata": {},
   "source": [
    "## Pagination"
   ]
  },
  {
   "cell_type": "code",
   "execution_count": 27,
   "metadata": {},
   "outputs": [],
   "source": [
    "product_name = []\n",
    "product_price = []\n",
    "review_rating = []\n",
    "review_count = []\n",
    "relative_url = []\n",
    "product_details = []\n",
    "\n",
    "for i in range(1, 21):\n",
    "    \n",
    "    #url\n",
    "    url = 'https://www.laptopsdirect.co.uk/bct/tablet-pcs-and-e-readers/tablet-pcs/samsung?pageNumber=1' + str(i)\n",
    "    \n",
    "    #request\n",
    "    response = requests.get(url)\n",
    "    \n",
    "    #soup object\n",
    "    soup = BeautifulSoup(response.content, 'html.parser')\n",
    "    \n",
    "    #results\n",
    "    results = soup.find_all('div', {'class':'OfferBox'})\n",
    "    \n",
    "    #loop through results\n",
    "    for result in results:\n",
    "        \n",
    "        #name\n",
    "        try:\n",
    "            product_name.append(result.find('a', {'class': 'offerboxtitle'}).get_text())\n",
    "        except:\n",
    "            product_name.append('n/a')\n",
    "        \n",
    "        #price\n",
    "        try:\n",
    "            product_price.append(result.find('span', {'class': 'offerprice'}).get_text())\n",
    "        except:\n",
    "            product_price.append('n/a')\n",
    "        \n",
    "        #review rating\n",
    "        try:\n",
    "            review_rating.append(result.find('star-rating').get('rating-value'))\n",
    "        except:\n",
    "            review_rating.append('n/a')\n",
    "        \n",
    "        #review rating\n",
    "        try:\n",
    "            review_count.append(result.find('star-rating').get('ratings-count'))\n",
    "        except:\n",
    "            review_count.append('n/a')\n",
    "        \n",
    "        #relative url\n",
    "        try:\n",
    "            relative_url.append(result.find('a', {'class': 'offerboxtitle'}).get('href'))\n",
    "        except:\n",
    "            relative_url.append('n/a')\n",
    "        \n",
    "        #product details\n",
    "        try:\n",
    "            product_details.append(result.find('div', {'class': 'productInfo'}).get_text().strip().replace('\\n', ', '))\n",
    "        except:\n",
    "            product_details.append.append('n/a')\n",
    "        "
   ]
  },
  {
   "cell_type": "code",
   "execution_count": 37,
   "metadata": {},
   "outputs": [
    {
     "name": "stderr",
     "output_type": "stream",
     "text": [
      "C:\\Anaconda\\envs\\pandas\\lib\\site-packages\\seaborn\\_decorators.py:36: FutureWarning: Pass the following variable as a keyword arg: x. From version 0.12, the only valid positional argument will be `data`, and passing other arguments without an explicit keyword will result in an error or misinterpretation.\n",
      "  warnings.warn(\n",
      "C:\\Anaconda\\envs\\pandas\\lib\\site-packages\\seaborn\\_decorators.py:36: FutureWarning: Pass the following variable as a keyword arg: x. From version 0.12, the only valid positional argument will be `data`, and passing other arguments without an explicit keyword will result in an error or misinterpretation.\n",
      "  warnings.warn(\n"
     ]
    },
    {
     "data": {
      "text/plain": [
       "Text(0.5, 1.0, 'COUNT PLOT')"
      ]
     },
     "execution_count": 37,
     "metadata": {},
     "output_type": "execute_result"
    },
    {
     "data": {
      "image/png": "[encoded data removed]",
      "text/plain": [
       "<Figure size 432x288 with 1 Axes>"
      ]
     },
     "metadata": {
      "needs_background": "light"
     },
     "output_type": "display_data"
    }
   ],
   "source": [
    "import seaborn as sns\n",
    "sns.countplot(review_rating) \n",
    "sns.countplot(review_count)\n",
    "plt.xlabel('Reviews')\n",
    "plt.xticks([0,1,2,3],['negative','neutral','positive', 'blank'])\n",
    "plt.title('COUNT PLOT')"
   ]
  },
  {
   "cell_type": "code",
   "execution_count": 28,
   "metadata": {},
   "outputs": [],
   "source": [
    "url_combined = []\n",
    "\n",
    "for link in relative_url:\n",
    "    url_combined.append(urllib.parse.urljoin(root_url, link))"
   ]
  },
  {
   "cell_type": "code",
   "execution_count": 29,
   "metadata": {},
   "outputs": [],
   "source": [
    "product_overview = pd.DataFrame({'Product Name': product_name, 'Product Price': product_price, 'Rating': review_rating,\n",
    "                                'Review Count': review_count, 'Link': url_combined, 'Details': product_details})"
   ]
  },
  {
   "cell_type": "code",
   "execution_count": 30,
   "metadata": {},
   "outputs": [
    {
     "data": {
      "text/html": [
       "<div>\n",
       "<style scoped>\n",
       "    .dataframe tbody tr th:only-of-type {\n",
       "        vertical-align: middle;\n",
       "    }\n",
       "\n",
       "    .dataframe tbody tr th {\n",
       "        vertical-align: top;\n",
       "    }\n",
       "\n",
       "    .dataframe thead th {\n",
       "        text-align: right;\n",
       "    }\n",
       "</style>\n",
       "<table border=\"1\" class=\"dataframe\">\n",
       "  <thead>\n",
       "    <tr style=\"text-align: right;\">\n",
       "      <th></th>\n",
       "      <th>Product Name</th>\n",
       "      <th>Product Price</th>\n",
       "      <th>Rating</th>\n",
       "      <th>Review Count</th>\n",
       "      <th>Link</th>\n",
       "      <th>Details</th>\n",
       "    </tr>\n",
       "  </thead>\n",
       "  <tbody>\n",
       "    <tr>\n",
       "      <th>0</th>\n",
       "      <td>Samsung Galaxy Tab S6 128GB 4G 10.5 Inch Table...</td>\n",
       "      <td>£569.97</td>\n",
       "      <td>n/a</td>\n",
       "      <td>n/a</td>\n",
       "      <td>https://www.laptopsdirect.co.uk/samsung-galaxy...</td>\n",
       "      <td>10.5Inch Display, 128GB Storage, 6GB RAM, 2 ye...</td>\n",
       "    </tr>\n",
       "    <tr>\n",
       "      <th>1</th>\n",
       "      <td>Samsung Galaxy Tab A7 32GB SSD LTE 10.4 Inch T...</td>\n",
       "      <td>£219.97</td>\n",
       "      <td>9.1</td>\n",
       "      <td>62</td>\n",
       "      <td>https://www.laptopsdirect.co.uk/samsung-galaxy...</td>\n",
       "      <td>10.4 Inch Display, 32GB Storage, 3GB RAM, 1 ye...</td>\n",
       "    </tr>\n",
       "    <tr>\n",
       "      <th>2</th>\n",
       "      <td>Samsung Galaxy Tab 7 32GB SSD LTE 10.4 Inch Ta...</td>\n",
       "      <td>£219.97</td>\n",
       "      <td>9.1</td>\n",
       "      <td>52</td>\n",
       "      <td>https://www.laptopsdirect.co.uk/samsung-galaxy...</td>\n",
       "      <td>10.4 Display, 32GB Storage, 3 RAM, 1 year warr...</td>\n",
       "    </tr>\n",
       "    <tr>\n",
       "      <th>3</th>\n",
       "      <td>Samsung Galaxy Tab S6 Lite 64GB Andriod 10.4 I...</td>\n",
       "      <td>£404.97</td>\n",
       "      <td>n/a</td>\n",
       "      <td>n/a</td>\n",
       "      <td>https://www.laptopsdirect.co.uk/samsung-galaxy...</td>\n",
       "      <td>10.4in Display, 4GB RAM, 2-year warranty</td>\n",
       "    </tr>\n",
       "    <tr>\n",
       "      <th>4</th>\n",
       "      <td>Samsung Galaxy Tab A7 32GB SSD  10.4 Inch Tabl...</td>\n",
       "      <td>£224.97</td>\n",
       "      <td>9.1</td>\n",
       "      <td>684</td>\n",
       "      <td>https://www.laptopsdirect.co.uk/samsung-galaxy...</td>\n",
       "      <td>10.4Inch Display, 32GB Storage, 3GB RAM, 1 yea...</td>\n",
       "    </tr>\n",
       "    <tr>\n",
       "      <th>...</th>\n",
       "      <td>...</td>\n",
       "      <td>...</td>\n",
       "      <td>...</td>\n",
       "      <td>...</td>\n",
       "      <td>...</td>\n",
       "      <td>...</td>\n",
       "    </tr>\n",
       "    <tr>\n",
       "      <th>95</th>\n",
       "      <td>Samsung Galaxy Tab S6 128GB 4G 10.5 Inch Table...</td>\n",
       "      <td>£569.97</td>\n",
       "      <td>n/a</td>\n",
       "      <td>n/a</td>\n",
       "      <td>https://www.laptopsdirect.co.uk/samsung-galaxy...</td>\n",
       "      <td>10.5Inch Display, 128GB Storage, 6GB RAM, 2 ye...</td>\n",
       "    </tr>\n",
       "    <tr>\n",
       "      <th>96</th>\n",
       "      <td>Samsung Galaxy Tab A7 32GB SSD LTE 10.4 Inch T...</td>\n",
       "      <td>£219.97</td>\n",
       "      <td>9.1</td>\n",
       "      <td>62</td>\n",
       "      <td>https://www.laptopsdirect.co.uk/samsung-galaxy...</td>\n",
       "      <td>10.4 Inch Display, 32GB Storage, 3GB RAM, 1 ye...</td>\n",
       "    </tr>\n",
       "    <tr>\n",
       "      <th>97</th>\n",
       "      <td>Samsung Galaxy Tab 7 32GB SSD LTE 10.4 Inch Ta...</td>\n",
       "      <td>£219.97</td>\n",
       "      <td>9.1</td>\n",
       "      <td>52</td>\n",
       "      <td>https://www.laptopsdirect.co.uk/samsung-galaxy...</td>\n",
       "      <td>10.4 Display, 32GB Storage, 3 RAM, 1 year warr...</td>\n",
       "    </tr>\n",
       "    <tr>\n",
       "      <th>98</th>\n",
       "      <td>Samsung Galaxy Tab S6 Lite 64GB Andriod 10.4 I...</td>\n",
       "      <td>£404.97</td>\n",
       "      <td>n/a</td>\n",
       "      <td>n/a</td>\n",
       "      <td>https://www.laptopsdirect.co.uk/samsung-galaxy...</td>\n",
       "      <td>10.4in Display, 4GB RAM, 2-year warranty</td>\n",
       "    </tr>\n",
       "    <tr>\n",
       "      <th>99</th>\n",
       "      <td>Samsung Galaxy Tab A7 32GB SSD  10.4 Inch Tabl...</td>\n",
       "      <td>£224.97</td>\n",
       "      <td>9.1</td>\n",
       "      <td>684</td>\n",
       "      <td>https://www.laptopsdirect.co.uk/samsung-galaxy...</td>\n",
       "      <td>10.4Inch Display, 32GB Storage, 3GB RAM, 1 yea...</td>\n",
       "    </tr>\n",
       "  </tbody>\n",
       "</table>\n",
       "<p>100 rows × 6 columns</p>\n",
       "</div>"
      ],
      "text/plain": [
       "                                         Product Name Product Price Rating  \\\n",
       "0   Samsung Galaxy Tab S6 128GB 4G 10.5 Inch Table...       £569.97    n/a   \n",
       "1   Samsung Galaxy Tab A7 32GB SSD LTE 10.4 Inch T...       £219.97    9.1   \n",
       "2   Samsung Galaxy Tab 7 32GB SSD LTE 10.4 Inch Ta...       £219.97    9.1   \n",
       "3   Samsung Galaxy Tab S6 Lite 64GB Andriod 10.4 I...       £404.97    n/a   \n",
       "4   Samsung Galaxy Tab A7 32GB SSD  10.4 Inch Tabl...       £224.97    9.1   \n",
       "..                                                ...           ...    ...   \n",
       "95  Samsung Galaxy Tab S6 128GB 4G 10.5 Inch Table...       £569.97    n/a   \n",
       "96  Samsung Galaxy Tab A7 32GB SSD LTE 10.4 Inch T...       £219.97    9.1   \n",
       "97  Samsung Galaxy Tab 7 32GB SSD LTE 10.4 Inch Ta...       £219.97    9.1   \n",
       "98  Samsung Galaxy Tab S6 Lite 64GB Andriod 10.4 I...       £404.97    n/a   \n",
       "99  Samsung Galaxy Tab A7 32GB SSD  10.4 Inch Tabl...       £224.97    9.1   \n",
       "\n",
       "   Review Count                                               Link  \\\n",
       "0           n/a  https://www.laptopsdirect.co.uk/samsung-galaxy...   \n",
       "1            62  https://www.laptopsdirect.co.uk/samsung-galaxy...   \n",
       "2            52  https://www.laptopsdirect.co.uk/samsung-galaxy...   \n",
       "3           n/a  https://www.laptopsdirect.co.uk/samsung-galaxy...   \n",
       "4           684  https://www.laptopsdirect.co.uk/samsung-galaxy...   \n",
       "..          ...                                                ...   \n",
       "95          n/a  https://www.laptopsdirect.co.uk/samsung-galaxy...   \n",
       "96           62  https://www.laptopsdirect.co.uk/samsung-galaxy...   \n",
       "97           52  https://www.laptopsdirect.co.uk/samsung-galaxy...   \n",
       "98          n/a  https://www.laptopsdirect.co.uk/samsung-galaxy...   \n",
       "99          684  https://www.laptopsdirect.co.uk/samsung-galaxy...   \n",
       "\n",
       "                                              Details  \n",
       "0   10.5Inch Display, 128GB Storage, 6GB RAM, 2 ye...  \n",
       "1   10.4 Inch Display, 32GB Storage, 3GB RAM, 1 ye...  \n",
       "2   10.4 Display, 32GB Storage, 3 RAM, 1 year warr...  \n",
       "3            10.4in Display, 4GB RAM, 2-year warranty  \n",
       "4   10.4Inch Display, 32GB Storage, 3GB RAM, 1 yea...  \n",
       "..                                                ...  \n",
       "95  10.5Inch Display, 128GB Storage, 6GB RAM, 2 ye...  \n",
       "96  10.4 Inch Display, 32GB Storage, 3GB RAM, 1 ye...  \n",
       "97  10.4 Display, 32GB Storage, 3 RAM, 1 year warr...  \n",
       "98           10.4in Display, 4GB RAM, 2-year warranty  \n",
       "99  10.4Inch Display, 32GB Storage, 3GB RAM, 1 yea...  \n",
       "\n",
       "[100 rows x 6 columns]"
      ]
     },
     "execution_count": 30,
     "metadata": {},
     "output_type": "execute_result"
    }
   ],
   "source": [
    "product_overview"
   ]
  },
  {
   "cell_type": "code",
   "execution_count": 31,
   "metadata": {},
   "outputs": [],
   "source": [
    "product_overview.to_excel('results_multiple_page.xlsx', index=False)"
   ]
  },
  {
   "cell_type": "code",
   "execution_count": null,
   "metadata": {},
   "outputs": [],
   "source": []
  }
 ],
 "metadata": {
  "kernelspec": {
   "display_name": "Python 3",
   "language": "python",
   "name": "python3"
  },
  "language_info": {
   "codemirror_mode": {
    "name": "ipython",
    "version": 3
   },
   "file_extension": ".py",
   "mimetype": "text/x-python",
   "name": "python",
   "nbconvert_exporter": "python",
   "pygments_lexer": "ipython3",
   "version": "3.8.5"
  }
 },
 "nbformat": 4,
 "nbformat_minor": 4
}
