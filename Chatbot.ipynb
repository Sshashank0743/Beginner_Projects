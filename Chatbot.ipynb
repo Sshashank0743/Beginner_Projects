{
 "cells": [
  {
   "cell_type": "markdown",
   "metadata": {
    "id": "Br4q6Nc9A4iW"
   },
   "source": [
    "# Importing libraries and downloading packages"
   ]
  },
  {
   "cell_type": "code",
   "execution_count": 14,
   "metadata": {
    "id": "QNt7tOcEC48w"
   },
   "outputs": [],
   "source": [
    "import nltk\n",
    "import numpy as np"
   ]
  },
  {
   "cell_type": "code",
   "execution_count": 15,
   "metadata": {
    "colab": {
     "base_uri": "https://localhost:8080/"
    },
    "id": "sgKLrIjRC486",
    "outputId": "8cdc65b9-9a8e-41d9-eea8-162400e8b647"
   },
   "outputs": [
    {
     "name": "stderr",
     "output_type": "stream",
     "text": [
      "[nltk_data] Downloading package punkt to\n",
      "[nltk_data]     C:\\Users\\sshas\\AppData\\Roaming\\nltk_data...\n",
      "[nltk_data]   Package punkt is already up-to-date!\n",
      "[nltk_data] Downloading package stopwords to\n",
      "[nltk_data]     C:\\Users\\sshas\\AppData\\Roaming\\nltk_data...\n",
      "[nltk_data]   Package stopwords is already up-to-date!\n",
      "[nltk_data] Downloading package wordnet to\n",
      "[nltk_data]     C:\\Users\\sshas\\AppData\\Roaming\\nltk_data...\n",
      "[nltk_data]   Package wordnet is already up-to-date!\n"
     ]
    },
    {
     "data": {
      "text/plain": [
       "True"
      ]
     },
     "execution_count": 15,
     "metadata": {},
     "output_type": "execute_result"
    }
   ],
   "source": [
    "# downloading model to tokenize message\n",
    "nltk.download('punkt')\n",
    "# downloading stopwords\n",
    "nltk.download('stopwords')\n",
    "# downloading wordnet, which contains all lemmas of english language\n",
    "nltk.download('wordnet')"
   ]
  },
  {
   "cell_type": "code",
   "execution_count": 16,
   "metadata": {
    "id": "Cy4x4jMmC488"
   },
   "outputs": [],
   "source": [
    "from nltk.tokenize import word_tokenize\n",
    "\n",
    "from nltk.corpus import stopwords\n",
    "stop_words = stopwords.words('english')\n",
    "\n",
    "from nltk.stem import WordNetLemmatizer"
   ]
  },
  {
   "cell_type": "code",
   "execution_count": 17,
   "metadata": {
    "colab": {
     "base_uri": "https://localhost:8080/"
    },
    "id": "7Q3fIVZVdYDG",
    "outputId": "1d138fae-4820-4306-d48a-78c87d99ccbf"
   },
   "outputs": [
    {
     "data": {
      "text/plain": [
       "['i',\n",
       " 'me',\n",
       " 'my',\n",
       " 'myself',\n",
       " 'we',\n",
       " 'our',\n",
       " 'ours',\n",
       " 'ourselves',\n",
       " 'you',\n",
       " \"you're\",\n",
       " \"you've\",\n",
       " \"you'll\",\n",
       " \"you'd\",\n",
       " 'your',\n",
       " 'yours',\n",
       " 'yourself',\n",
       " 'yourselves',\n",
       " 'he',\n",
       " 'him',\n",
       " 'his',\n",
       " 'himself',\n",
       " 'she',\n",
       " \"she's\",\n",
       " 'her',\n",
       " 'hers',\n",
       " 'herself',\n",
       " 'it',\n",
       " \"it's\",\n",
       " 'its',\n",
       " 'itself',\n",
       " 'they',\n",
       " 'them',\n",
       " 'their',\n",
       " 'theirs',\n",
       " 'themselves',\n",
       " 'what',\n",
       " 'which',\n",
       " 'who',\n",
       " 'whom',\n",
       " 'this',\n",
       " 'that',\n",
       " \"that'll\",\n",
       " 'these',\n",
       " 'those',\n",
       " 'am',\n",
       " 'is',\n",
       " 'are',\n",
       " 'was',\n",
       " 'were',\n",
       " 'be',\n",
       " 'been',\n",
       " 'being',\n",
       " 'have',\n",
       " 'has',\n",
       " 'had',\n",
       " 'having',\n",
       " 'do',\n",
       " 'does',\n",
       " 'did',\n",
       " 'doing',\n",
       " 'a',\n",
       " 'an',\n",
       " 'the',\n",
       " 'and',\n",
       " 'but',\n",
       " 'if',\n",
       " 'or',\n",
       " 'because',\n",
       " 'as',\n",
       " 'until',\n",
       " 'while',\n",
       " 'of',\n",
       " 'at',\n",
       " 'by',\n",
       " 'for',\n",
       " 'with',\n",
       " 'about',\n",
       " 'against',\n",
       " 'between',\n",
       " 'into',\n",
       " 'through',\n",
       " 'during',\n",
       " 'before',\n",
       " 'after',\n",
       " 'above',\n",
       " 'below',\n",
       " 'to',\n",
       " 'from',\n",
       " 'up',\n",
       " 'down',\n",
       " 'in',\n",
       " 'out',\n",
       " 'on',\n",
       " 'off',\n",
       " 'over',\n",
       " 'under',\n",
       " 'again',\n",
       " 'further',\n",
       " 'then',\n",
       " 'once',\n",
       " 'here',\n",
       " 'there',\n",
       " 'when',\n",
       " 'where',\n",
       " 'why',\n",
       " 'how',\n",
       " 'all',\n",
       " 'any',\n",
       " 'both',\n",
       " 'each',\n",
       " 'few',\n",
       " 'more',\n",
       " 'most',\n",
       " 'other',\n",
       " 'some',\n",
       " 'such',\n",
       " 'no',\n",
       " 'nor',\n",
       " 'not',\n",
       " 'only',\n",
       " 'own',\n",
       " 'same',\n",
       " 'so',\n",
       " 'than',\n",
       " 'too',\n",
       " 'very',\n",
       " 's',\n",
       " 't',\n",
       " 'can',\n",
       " 'will',\n",
       " 'just',\n",
       " 'don',\n",
       " \"don't\",\n",
       " 'should',\n",
       " \"should've\",\n",
       " 'now',\n",
       " 'd',\n",
       " 'll',\n",
       " 'm',\n",
       " 'o',\n",
       " 're',\n",
       " 've',\n",
       " 'y',\n",
       " 'ain',\n",
       " 'aren',\n",
       " \"aren't\",\n",
       " 'couldn',\n",
       " \"couldn't\",\n",
       " 'didn',\n",
       " \"didn't\",\n",
       " 'doesn',\n",
       " \"doesn't\",\n",
       " 'hadn',\n",
       " \"hadn't\",\n",
       " 'hasn',\n",
       " \"hasn't\",\n",
       " 'haven',\n",
       " \"haven't\",\n",
       " 'isn',\n",
       " \"isn't\",\n",
       " 'ma',\n",
       " 'mightn',\n",
       " \"mightn't\",\n",
       " 'mustn',\n",
       " \"mustn't\",\n",
       " 'needn',\n",
       " \"needn't\",\n",
       " 'shan',\n",
       " \"shan't\",\n",
       " 'shouldn',\n",
       " \"shouldn't\",\n",
       " 'wasn',\n",
       " \"wasn't\",\n",
       " 'weren',\n",
       " \"weren't\",\n",
       " 'won',\n",
       " \"won't\",\n",
       " 'wouldn',\n",
       " \"wouldn't\"]"
      ]
     },
     "execution_count": 17,
     "metadata": {},
     "output_type": "execute_result"
    }
   ],
   "source": [
    "stop_words"
   ]
  },
  {
   "cell_type": "markdown",
   "metadata": {
    "id": "XW2vOhbcBMXY"
   },
   "source": [
    "# Function to clean text"
   ]
  },
  {
   "cell_type": "code",
   "execution_count": 18,
   "metadata": {
    "id": "A_End2kUC489"
   },
   "outputs": [],
   "source": [
    "def clean_corpus(corpus):\n",
    "  # lowering every word in text\n",
    "  corpus = [ doc.lower() for doc in corpus]\n",
    "  cleaned_corpus = []\n",
    "  \n",
    "  stop_words = stopwords.words('english')\n",
    "  wordnet_lemmatizer = WordNetLemmatizer()\n",
    "\n",
    "  # iterating over every text\n",
    "  for doc in corpus:\n",
    "    # tokenizing text\n",
    "    tokens = word_tokenize(doc)\n",
    "    cleaned_sentence = [] \n",
    "    for token in tokens: \n",
    "      # removing stopwords, and punctuation\n",
    "      if token not in stop_words and token.isalpha(): \n",
    "        # applying lemmatization\n",
    "        cleaned_sentence.append(wordnet_lemmatizer.lemmatize(token)) \n",
    "    cleaned_corpus.append(' '.join(cleaned_sentence))\n",
    "  return cleaned_corpus"
   ]
  },
  {
   "cell_type": "code",
   "execution_count": null,
   "metadata": {
    "id": "1Q_dP2CozTVE"
   },
   "outputs": [],
   "source": []
  },
  {
   "cell_type": "markdown",
   "metadata": {
    "id": "97atD-mrBq_E"
   },
   "source": [
    "# Loading and cleaning intents"
   ]
  },
  {
   "cell_type": "code",
   "execution_count": 19,
   "metadata": {
    "colab": {
     "base_uri": "https://localhost:8080/"
    },
    "id": "KJSB62LkbzIb",
    "outputId": "653b31bd-5eee-43df-c916-d8fa1879b2f3"
   },
   "outputs": [
    {
     "name": "stderr",
     "output_type": "stream",
     "text": [
      "'wget' is not recognized as an internal or external command,\n",
      "operable program or batch file.\n"
     ]
    }
   ],
   "source": [
    "!wget -O intents.json https://techlearn-cdn.s3.amazonaws.com/bs_swiggy_chatbot/intent.json"
   ]
  },
  {
   "cell_type": "code",
   "execution_count": 20,
   "metadata": {
    "id": "BklOwtYLC48-"
   },
   "outputs": [],
   "source": [
    "import json\n",
    "with open('D:/Project series/AI/intents.json', 'r') as file:\n",
    "  intents = json.load(file)"
   ]
  },
  {
   "cell_type": "code",
   "execution_count": 21,
   "metadata": {
    "id": "6CEzIy-WC48_"
   },
   "outputs": [],
   "source": [
    "corpus = []\n",
    "tags = []\n",
    "\n",
    "for intent in intents['intents']:\n",
    "    # taking all patterns in intents to train a neural network\n",
    "    for pattern in intent['patterns']:\n",
    "        corpus.append(pattern)\n",
    "        tags.append(intent['tag'])"
   ]
  },
  {
   "cell_type": "code",
   "execution_count": null,
   "metadata": {
    "id": "m_z4eHK5-mck"
   },
   "outputs": [],
   "source": []
  },
  {
   "cell_type": "code",
   "execution_count": 22,
   "metadata": {
    "colab": {
     "base_uri": "https://localhost:8080/"
    },
    "id": "_jqWKIzkC48_",
    "outputId": "aa54bc60-8c23-490b-f376-d4d5934bb53f"
   },
   "outputs": [
    {
     "data": {
      "text/plain": [
       "['hi',\n",
       " 'anyone',\n",
       " 'hey',\n",
       " 'hola',\n",
       " 'hello',\n",
       " 'good day',\n",
       " 'bye',\n",
       " 'see later',\n",
       " 'goodbye',\n",
       " 'nice chatting bye',\n",
       " 'till next time',\n",
       " '',\n",
       " 'thanks',\n",
       " 'thank',\n",
       " 'helpful',\n",
       " 'awesome thanks',\n",
       " 'thanks helping',\n",
       " 'could help',\n",
       " 'help provide',\n",
       " 'helpful',\n",
       " 'support offered',\n",
       " 'please check order status',\n",
       " 'able check order status',\n",
       " 'help order status',\n",
       " 'order status',\n",
       " 'order',\n",
       " 'food',\n",
       " 'track order',\n",
       " 'track food',\n",
       " 'hi want cancel order',\n",
       " 'want cancel order',\n",
       " 'please cancel order',\n",
       " 'cancel order',\n",
       " 'want add delivery instruction',\n",
       " 'please add delivery instruction',\n",
       " 'include delivery instruction',\n",
       " 'tell joke',\n",
       " 'feeling bored',\n",
       " 'joke please',\n",
       " 'make laugh',\n",
       " 'want laugh']"
      ]
     },
     "execution_count": 22,
     "metadata": {},
     "output_type": "execute_result"
    }
   ],
   "source": [
    "cleaned_corpus = clean_corpus(corpus)\n",
    "cleaned_corpus"
   ]
  },
  {
   "cell_type": "markdown",
   "metadata": {
    "id": "h5nAAo7PB1Kz"
   },
   "source": [
    "# Vectorizing intents"
   ]
  },
  {
   "cell_type": "code",
   "execution_count": 23,
   "metadata": {
    "id": "1Y_ngS1NC49A"
   },
   "outputs": [],
   "source": [
    "from sklearn.feature_extraction.text import TfidfVectorizer\n",
    "\n",
    "vectorizer = TfidfVectorizer()\n",
    "X = vectorizer.fit_transform(cleaned_corpus)"
   ]
  },
  {
   "cell_type": "code",
   "execution_count": 24,
   "metadata": {
    "id": "8PekvuYZDaAH"
   },
   "outputs": [],
   "source": [
    "from sklearn.preprocessing import OneHotEncoder\n",
    "\n",
    "encoder = OneHotEncoder()\n",
    "y = encoder.fit_transform(np.array(tags).reshape(-1,1))"
   ]
  },
  {
   "cell_type": "markdown",
   "metadata": {
    "id": "BPtJ-gk5B5kN"
   },
   "source": [
    "# Training neural network"
   ]
  },
  {
   "cell_type": "code",
   "execution_count": 25,
   "metadata": {
    "colab": {
     "base_uri": "https://localhost:8080/"
    },
    "id": "RT_NXJApEYdr",
    "outputId": "d04c6c11-7e3e-43ee-874f-ee3f5bcd8a68"
   },
   "outputs": [
    {
     "name": "stdout",
     "output_type": "stream",
     "text": [
      "Model: \"sequential\"\n",
      "_________________________________________________________________\n",
      "Layer (type)                 Output Shape              Param #   \n",
      "=================================================================\n",
      "dense (Dense)                (None, 128)               5888      \n",
      "_________________________________________________________________\n",
      "dropout (Dropout)            (None, 128)               0         \n",
      "_________________________________________________________________\n",
      "dense_1 (Dense)              (None, 64)                8256      \n",
      "_________________________________________________________________\n",
      "dropout_1 (Dropout)          (None, 64)                0         \n",
      "_________________________________________________________________\n",
      "dense_2 (Dense)              (None, 8)                 520       \n",
      "=================================================================\n",
      "Total params: 14,664\n",
      "Trainable params: 14,664\n",
      "Non-trainable params: 0\n",
      "_________________________________________________________________\n"
     ]
    }
   ],
   "source": [
    "from tensorflow.keras import Sequential\n",
    "from tensorflow.keras.layers import Dense, Dropout\n",
    "\n",
    "model = Sequential([\n",
    "                    Dense(128, input_shape=(X.shape[1],), activation='relu'),\n",
    "                    Dropout(0.2),\n",
    "                    Dense(64, activation='relu'),\n",
    "                    Dropout(0.2),\n",
    "                    Dense(y.shape[1], activation='softmax')\n",
    "])\n",
    "\n",
    "model.compile(loss='categorical_crossentropy', optimizer='adam', metrics=['accuracy'])\n",
    "model.summary()"
   ]
  },
  {
   "cell_type": "code",
   "execution_count": 26,
   "metadata": {
    "colab": {
     "base_uri": "https://localhost:8080/"
    },
    "id": "hQif3TZ2FwbK",
    "outputId": "cff51e63-8d18-4b56-bc4d-cb1ff78a7f7b"
   },
   "outputs": [
    {
     "name": "stdout",
     "output_type": "stream",
     "text": [
      "Epoch 1/20\n",
      "41/41 [==============================] - 1s 932us/step - loss: 2.0794 - accuracy: 0.1560\n",
      "Epoch 2/20\n",
      "41/41 [==============================] - 0s 868us/step - loss: 1.9954 - accuracy: 0.3807\n",
      "Epoch 3/20\n",
      "41/41 [==============================] - 0s 900us/step - loss: 1.8791 - accuracy: 0.4855\n",
      "Epoch 4/20\n",
      "41/41 [==============================] - 0s 1ms/step - loss: 1.7974 - accuracy: 0.7783\n",
      "Epoch 5/20\n",
      "41/41 [==============================] - 0s 1ms/step - loss: 1.5951 - accuracy: 0.8161\n",
      "Epoch 6/20\n",
      "41/41 [==============================] - 0s 1ms/step - loss: 1.4102 - accuracy: 0.7952\n",
      "Epoch 7/20\n",
      "41/41 [==============================] - 0s 1ms/step - loss: 1.1715 - accuracy: 0.9501\n",
      "Epoch 8/20\n",
      "41/41 [==============================] - 0s 1ms/step - loss: 0.8933 - accuracy: 0.9519\n",
      "Epoch 9/20\n",
      "41/41 [==============================] - 0s 1ms/step - loss: 0.6436 - accuracy: 0.9804\n",
      "Epoch 10/20\n",
      "41/41 [==============================] - 0s 875us/step - loss: 0.4836 - accuracy: 0.9317\n",
      "Epoch 11/20\n",
      "41/41 [==============================] - 0s 1ms/step - loss: 0.4658 - accuracy: 0.9254\n",
      "Epoch 12/20\n",
      "41/41 [==============================] - 0s 1ms/step - loss: 0.4056 - accuracy: 0.9526\n",
      "Epoch 13/20\n",
      "41/41 [==============================] - 0s 950us/step - loss: 0.1634 - accuracy: 0.9957\n",
      "Epoch 14/20\n",
      "41/41 [==============================] - 0s 1000us/step - loss: 0.1271 - accuracy: 1.0000\n",
      "Epoch 15/20\n",
      "41/41 [==============================] - 0s 925us/step - loss: 0.2341 - accuracy: 0.9921\n",
      "Epoch 16/20\n",
      "41/41 [==============================] - 0s 975us/step - loss: 0.1522 - accuracy: 0.9760\n",
      "Epoch 17/20\n",
      "41/41 [==============================] - 0s 1ms/step - loss: 0.0964 - accuracy: 1.0000\n",
      "Epoch 18/20\n",
      "41/41 [==============================] - 0s 1ms/step - loss: 0.1473 - accuracy: 0.9711\n",
      "Epoch 19/20\n",
      "41/41 [==============================] - 0s 1ms/step - loss: 0.2590 - accuracy: 0.8721\n",
      "Epoch 20/20\n",
      "41/41 [==============================] - 0s 1ms/step - loss: 0.0912 - accuracy: 0.9921\n"
     ]
    }
   ],
   "source": [
    "history = model.fit(X.toarray(), y.toarray(), epochs=20, batch_size=1)"
   ]
  },
  {
   "cell_type": "markdown",
   "metadata": {
    "id": "vhbHBoOhB_hm"
   },
   "source": [
    "# Classifying messages to intent"
   ]
  },
  {
   "cell_type": "markdown",
   "metadata": {
    "id": "h9PNlGPAVwQW"
   },
   "source": [
    "1. If the intent probability does not match with any intent, then send it to no answer.\n",
    "\n",
    "2. Get Intent\n",
    "\n",
    "3. Perform Action\n"
   ]
  },
  {
   "cell_type": "code",
   "execution_count": 27,
   "metadata": {
    "colab": {
     "base_uri": "https://localhost:8080/"
    },
    "id": "xoEL5PgKG-sv",
    "outputId": "0830e8a5-eaea-4a93-e168-4bc483d05d8b"
   },
   "outputs": [
    {
     "name": "stdout",
     "output_type": "stream",
     "text": [
      "options\n",
      "goodbye\n",
      "order-status-request\n"
     ]
    }
   ],
   "source": [
    "# if prediction for every tag is low, then we want to classify that message as noanswer\n",
    "\n",
    "INTENT_NOT_FOUND_THRESHOLD = 0.40\n",
    "\n",
    "def predict_intent_tag(message):\n",
    "  message = clean_corpus([message])\n",
    "  X_test = vectorizer.transform(message)\n",
    "  y = model.predict(X_test.toarray())\n",
    "  \n",
    "  # if probability of all intent is low, classify it as noanswer\n",
    "  if y.max() < INTENT_NOT_FOUND_THRESHOLD:\n",
    "    return 'noanswer'\n",
    "  \n",
    "  prediction = np.zeros_like(y[0])\n",
    "  prediction[y.argmax()] = 1\n",
    "  tag = encoder.inverse_transform([prediction])[0][0]\n",
    "  return tag\n",
    "\n",
    "print(predict_intent_tag('How you could help me?'))\n",
    "print(predict_intent_tag('swiggy chat bot'))\n",
    "print(predict_intent_tag('Where\\'s my order'))\n"
   ]
  },
  {
   "cell_type": "code",
   "execution_count": 28,
   "metadata": {
    "id": "VSM0pSo-P91L"
   },
   "outputs": [],
   "source": [
    "import random\n",
    "import time "
   ]
  },
  {
   "cell_type": "code",
   "execution_count": 29,
   "metadata": {
    "id": "ziNmSPKCLJSz"
   },
   "outputs": [],
   "source": [
    "def get_intent(tag):\n",
    "  # to return complete intent from intent tag\n",
    "  for intent in intents['intents']:\n",
    "    if intent['tag'] == tag:\n",
    "      return intent"
   ]
  },
  {
   "cell_type": "code",
   "execution_count": 30,
   "metadata": {
    "id": "H0x8dXrlPjIp"
   },
   "outputs": [],
   "source": [
    "def perform_action(action_code, intent):\n",
    "  # funition to perform an action which is required by intent\n",
    "  \n",
    "  if action_code == 'CHECK_ORDER_STATUS':\n",
    "    print('\\n Checking database \\n')\n",
    "    time.sleep(2)\n",
    "    order_status = ['in kitchen', 'with delivery executive']\n",
    "    delivery_time = []\n",
    "    return {'intent-tag':intent['next-intent-tag'][0],\n",
    "            'order_status': random.choice(order_status),\n",
    "            'delivery_time': random.randint(10, 30)}\n",
    "  \n",
    "  elif action_code == 'ORDER_CANCEL_CONFIRMATION':\n",
    "    ch = input('BOT: Do you want to continue (Y/n) ?')\n",
    "    if ch == 'y' or ch == 'Y':\n",
    "      choice = 0\n",
    "    else:\n",
    "      choice = 1\n",
    "    return {'intent-tag':intent['next-intent-tag'][choice]}\n",
    "  \n",
    "  elif action_code == 'ADD_DELIVERY_INSTRUCTIONS':\n",
    "    instructions = input('Your Instructions: ')\n",
    "    return {'intent-tag':intent['next-intent-tag'][0]}"
   ]
  },
  {
   "cell_type": "markdown",
   "metadata": {
    "id": "zg_Ct0YQCry5"
   },
   "source": [
    "# Complete chat bot"
   ]
  },
  {
   "cell_type": "code",
   "execution_count": null,
   "metadata": {
    "colab": {
     "base_uri": "https://localhost:8080/"
    },
    "id": "axwe43o_JRm6",
    "outputId": "85209bd3-1b91-4c89-e8d5-fdd1109bf8d6"
   },
   "outputs": [
    {
     "name": "stdout",
     "output_type": "stream",
     "text": [
      "You: hello\n",
      "Bot:  Hi there, how can I help?\n",
      "You: I need my order\n",
      "Bot:  I am checking your status of your order, Please wait.\n",
      "\n",
      " Checking database \n",
      "\n",
      "Bot:  Your order will be delivered in 19, currently it is with delivery executive. Is there anything else, we can help you with?\n",
      "You: where is my order\n",
      "Bot:  I am checking your status of your order, Please wait.\n",
      "\n",
      " Checking database \n",
      "\n",
      "Bot:  Your order will be delivered in 24, currently it is with delivery executive. Is there anything else, we can help you with?\n",
      "You: I want to add some order\n",
      "Bot:  Not sure I understand\n"
     ]
    }
   ],
   "source": [
    "while True:\n",
    "  # get message from user\n",
    "  message = input('You: ')\n",
    "  # predict intent tag using trained neural network\n",
    "  tag = predict_intent_tag(message)\n",
    "  # get complete intent from intent tag\n",
    "  intent = get_intent(tag)\n",
    "  # generate random response from intent\n",
    "  response = random.choice(intent['responses'])\n",
    "  print('Bot: ', response)\n",
    "\n",
    "  # check if there's a need to perform some action\n",
    "  if 'action' in intent.keys():\n",
    "    action_code = intent['action']\n",
    "    # perform action\n",
    "    data = perform_action(action_code, intent)\n",
    "    # get follow up intent after performing action\n",
    "    followup_intent = get_intent(data['intent-tag'])\n",
    "    # generate random response from follow up intent\n",
    "    response = random.choice(followup_intent['responses'])\n",
    "\n",
    "    # print randomly selected response\n",
    "    if len(data.keys()) > 1:\n",
    "      print('Bot: ', response.format(**data))\n",
    "    else:\n",
    "      print('Bot: ', response)\n",
    "\n",
    "  # break loop if intent was goodbye\n",
    "  if tag == 'goodbye':\n",
    "    break"
   ]
  }
 ],
 "metadata": {
  "colab": {
   "collapsed_sections": [],
   "name": "Chatbot.ipynb",
   "provenance": []
  },
  "kernelspec": {
   "display_name": "Python 3",
   "language": "python",
   "name": "python3"
  },
  "language_info": {
   "codemirror_mode": {
    "name": "ipython",
    "version": 3
   },
   "file_extension": ".py",
   "mimetype": "text/x-python",
   "name": "python",
   "nbconvert_exporter": "python",
   "pygments_lexer": "ipython3",
   "version": "3.8.5"
  }
 },
 "nbformat": 4,
 "nbformat_minor": 1
}
